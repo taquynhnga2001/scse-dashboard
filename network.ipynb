{
 "cells": [
  {
   "cell_type": "code",
   "execution_count": 1,
   "id": "e62d9b4b",
   "metadata": {},
   "outputs": [],
   "source": [
    "import networkx as nx\n",
    "import pickle\n",
    "import pandas as pd\n",
    "import requests\n",
    "from bs4 import BeautifulSoup\n",
    "from tqdm.notebook import tqdm\n",
    "import itertools"
   ]
  },
  {
   "cell_type": "code",
   "execution_count": 2,
   "id": "248c9a50",
   "metadata": {},
   "outputs": [],
   "source": [
    "G = nx.Graph()\n",
    "\n",
    "df = pd.read_csv('Ta_Quynh_Nga.csv')\n",
    "df['DBLP Name'] = ''\n",
    "\n",
    "def create_graph():\n",
    "    for i, row in tqdm(df.iterrows(), total=len(df)):\n",
    "        # with open(f'publication_set/publications_{i}.pkl', 'rb') as f:\n",
    "        #     publications = pickle.load(f)\n",
    "        url = row['DBLP URL']\n",
    "        if type(url) != str:\n",
    "            continue\n",
    "        soup_source = requests.get(url).text\n",
    "        soup = BeautifulSoup(soup_source,'lxml')\n",
    "        name = soup.find('header', id='headline').find('span', class_='name primary').text.strip()\n",
    "        df.at[i, 'DBLP Name'] = name\n",
    "\n",
    "# create_graph()"
   ]
  },
  {
   "cell_type": "code",
   "execution_count": 3,
   "id": "40ff7087",
   "metadata": {},
   "outputs": [],
   "source": [
    "# df.to_csv('df_dblp_name.csv', index=False)\n",
    "df = pd.read_csv('df_dblp_name.csv')"
   ]
  },
  {
   "cell_type": "code",
   "execution_count": 17,
   "id": "e7accf59",
   "metadata": {},
   "outputs": [],
   "source": [
    "G = nx.Graph()\n",
    "scse_authors = set()\n",
    "\n",
    "def create_graph():\n",
    "    global G, scse_authors\n",
    "    for i, row in tqdm(df.iterrows(), total=len(df)):\n",
    "        prof_name = row['DBLP Name']\n",
    "        scse_authors.add(prof_name)\n",
    "        with open(f'publication_set/publications_{i}.pkl', 'rb') as f:\n",
    "            publications = pickle.load(f)\n",
    "        for pub in publications:\n",
    "            authors = pub['authors']\n",
    "            G.add_node(prof_name)\n",
    "            G.nodes[prof_name]['SCSE'] = True\n",
    "            for author in authors:\n",
    "                G.add_node(author)\n",
    "            for edge in itertools.combinations(authors, 2):\n",
    "                G.add_edge(edge[0], edge[1])"
   ]
  },
  {
   "cell_type": "code",
   "execution_count": 15,
   "id": "fe4b542b",
   "metadata": {},
   "outputs": [
    {
     "data": {
      "application/vnd.jupyter.widget-view+json": {
       "model_id": "14458aa867b34faf90793273c7f118f1",
       "version_major": 2,
       "version_minor": 0
      },
      "text/plain": [
       "  0%|          | 0/82 [00:00<?, ?it/s]"
      ]
     },
     "metadata": {},
     "output_type": "display_data"
    },
    {
     "data": {
      "text/plain": [
       "11508"
      ]
     },
     "execution_count": 15,
     "metadata": {},
     "output_type": "execute_result"
    }
   ],
   "source": [
    "get_authors()\n",
    "def get_colors(G):\n",
    "    colors = []\n",
    "    for node in G.nodes():\n",
    "        if 'SCSE' in node:\n",
    "            colors.append('red')\n",
    "        else:\n",
    "            colors.append('grey')\n",
    "len(G.nodes())"
   ]
  },
  {
   "cell_type": "code",
   "execution_count": 18,
   "id": "f7e5f019",
   "metadata": {},
   "outputs": [
    {
     "data": {
      "application/vnd.jupyter.widget-view+json": {
       "model_id": "aed2b7131f6747fcbed09cc443a24621",
       "version_major": 2,
       "version_minor": 0
      },
      "text/plain": [
       "  0%|          | 0/82 [00:00<?, ?it/s]"
      ]
     },
     "metadata": {},
     "output_type": "display_data"
    }
   ],
   "source": [
    "create_graph()"
   ]
  },
  {
   "cell_type": "code",
   "execution_count": 21,
   "id": "fe6c0a41",
   "metadata": {},
   "outputs": [],
   "source": [
    "import numpy as np\n",
    "scse_authors.remove(np.nan)"
   ]
  },
  {
   "cell_type": "code",
   "execution_count": 23,
   "id": "e0d75d68",
   "metadata": {},
   "outputs": [],
   "source": [
    "with open(f'scse_authors.pkl', 'wb') as f:\n",
    "    pickle.dump(scse_authors, f)"
   ]
  },
  {
   "cell_type": "code",
   "execution_count": null,
   "id": "645e8697",
   "metadata": {},
   "outputs": [],
   "source": []
  }
 ],
 "metadata": {
  "kernelspec": {
   "display_name": "Python 3 (ipykernel)",
   "language": "python",
   "name": "python3"
  },
  "language_info": {
   "codemirror_mode": {
    "name": "ipython",
    "version": 3
   },
   "file_extension": ".py",
   "mimetype": "text/x-python",
   "name": "python",
   "nbconvert_exporter": "python",
   "pygments_lexer": "ipython3",
   "version": "3.9.12"
  }
 },
 "nbformat": 4,
 "nbformat_minor": 5
}
