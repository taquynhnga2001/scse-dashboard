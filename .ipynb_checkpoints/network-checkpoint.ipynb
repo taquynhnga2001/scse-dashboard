{
 "cells": [
  {
   "cell_type": "code",
   "execution_count": 1,
   "id": "6d6b7ccf",
   "metadata": {},
   "outputs": [],
   "source": [
    "import networkx as nx\n",
    "import pickle\n",
    "import pandas as pd\n",
    "import requests\n",
    "from bs4 import BeautifulSoup\n",
    "from tqdm.notebook import tqdm\n",
    "import itertools"
   ]
  },
  {
   "cell_type": "code",
   "execution_count": 2,
   "id": "029e24c5",
   "metadata": {},
   "outputs": [],
   "source": [
    "G = nx.Graph()\n",
    "\n",
    "df = pd.read_csv('Ta_Quynh_Nga.csv')\n",
    "df['DBLP Name'] = ''\n",
    "\n",
    "def create_graph():\n",
    "    for i, row in tqdm(df.iterrows(), total=len(df)):\n",
    "        # with open(f'publication_set/publications_{i}.pkl', 'rb') as f:\n",
    "        #     publications = pickle.load(f)\n",
    "        url = row['DBLP URL']\n",
    "        if type(url) != str:\n",
    "            continue\n",
    "        soup_source = requests.get(url).text\n",
    "        soup = BeautifulSoup(soup_source,'lxml')\n",
    "        name = soup.find('header', id='headline').find('span', class_='name primary').text.strip()\n",
    "        df.at[i, 'DBLP Name'] = name\n",
    "\n",
    "# create_graph()"
   ]
  },
  {
   "cell_type": "code",
   "execution_count": 3,
   "id": "ce21b33b",
   "metadata": {},
   "outputs": [],
   "source": [
    "# df.to_csv('df_dblp_name.csv', index=False)\n",
    "df = pd.read_csv('df_dblp_name.csv')"
   ]
  },
  {
   "cell_type": "code",
   "execution_count": 8,
   "id": "f01b467b",
   "metadata": {},
   "outputs": [],
   "source": [
    "G = nx.Graph()\n",
    "scse_authors = set()\n",
    "\n",
    "def create_graph():\n",
    "    global G\n",
    "    for i, row in tqdm(df.iterrows(), total=len(df)):\n",
    "        prof_name = row['DBLP Name']\n",
    "        scse_authors.add(prof_name)\n",
    "        with open(f'publication_set/publications_{i}.pkl', 'rb') as f:\n",
    "            publications = pickle.load(f)\n",
    "        for pub in publications:\n",
    "            authors = pub['authors']\n",
    "            G.add_node(prof_name)\n",
    "            G.nodes[prof_name]['SCSE'] = True\n",
    "            for author in authors:\n",
    "                G.add_node(author)\n",
    "            for edge in itertools.combinations(authors, 2):\n",
    "                G.add_edge(edge[0], edge[1])"
   ]
  },
  {
   "cell_type": "code",
   "execution_count": 12,
   "id": "a964f7ce",
   "metadata": {},
   "outputs": [
    {
     "data": {
      "application/vnd.jupyter.widget-view+json": {
       "model_id": "762276b4a5b14806895b62b626767273",
       "version_major": 2,
       "version_minor": 0
      },
      "text/plain": [
       "  0%|          | 0/82 [00:00<?, ?it/s]"
      ]
     },
     "metadata": {},
     "output_type": "display_data"
    },
    {
     "data": {
      "text/plain": [
       "11508"
      ]
     },
     "execution_count": 12,
     "metadata": {},
     "output_type": "execute_result"
    }
   ],
   "source": [
    "get_authors()\n",
    "def get_colors(G):\n",
    "    colors = []\n",
    "    for node in G.nodes():\n",
    "        if 'SCSE' in node:\n",
    "            colors.append('red')\n",
    "        else:\n",
    "            colors.append('grey')\n",
    "len(G.nodes())"
   ]
  },
  {
   "cell_type": "code",
   "execution_count": 20,
   "id": "c39f083c",
   "metadata": {},
   "outputs": [
    {
     "name": "stdout",
     "output_type": "stream",
     "text": [
      "('a', 'b')\n",
      "('a', 'c')\n",
      "('a', 1)\n",
      "('a', 2)\n",
      "('b', 'c')\n",
      "('b', 1)\n",
      "('b', 2)\n",
      "('c', 1)\n",
      "('c', 2)\n",
      "(1, 2)\n"
     ]
    }
   ],
   "source": [
    "for i in itertools.combinations(['a', 'b', 'c', 1, 2], 2):\n",
    "    print(i)"
   ]
  },
  {
   "cell_type": "code",
   "execution_count": null,
   "id": "329ca154",
   "metadata": {},
   "outputs": [],
   "source": []
  }
 ],
 "metadata": {
  "kernelspec": {
   "display_name": "Python 3 (ipykernel)",
   "language": "python",
   "name": "python3"
  },
  "language_info": {
   "codemirror_mode": {
    "name": "ipython",
    "version": 3
   },
   "file_extension": ".py",
   "mimetype": "text/x-python",
   "name": "python",
   "nbconvert_exporter": "python",
   "pygments_lexer": "ipython3",
   "version": "3.9.12"
  }
 },
 "nbformat": 4,
 "nbformat_minor": 5
}
