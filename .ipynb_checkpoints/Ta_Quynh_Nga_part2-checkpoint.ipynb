{
 "cells": [
  {
   "cell_type": "code",
   "execution_count": 13,
   "id": "0148ad76",
   "metadata": {},
   "outputs": [],
   "source": [
    "from bs4 import BeautifulSoup\n",
    "import requests\n",
    "import pandas as pd\n",
    "import numpy as np\n",
    "import re\n",
    "from tqdm.notebook import tqdm\n",
    "import pickle\n",
    "import json"
   ]
  },
  {
   "cell_type": "code",
   "execution_count": 2,
   "id": "47394f91",
   "metadata": {},
   "outputs": [
    {
     "data": {
      "text/html": [
       "<div>\n",
       "<style scoped>\n",
       "    .dataframe tbody tr th:only-of-type {\n",
       "        vertical-align: middle;\n",
       "    }\n",
       "\n",
       "    .dataframe tbody tr th {\n",
       "        vertical-align: top;\n",
       "    }\n",
       "\n",
       "    .dataframe thead th {\n",
       "        text-align: right;\n",
       "    }\n",
       "</style>\n",
       "<table border=\"1\" class=\"dataframe\">\n",
       "  <thead>\n",
       "    <tr style=\"text-align: right;\">\n",
       "      <th></th>\n",
       "      <th>Full Name</th>\n",
       "      <th>Email</th>\n",
       "      <th>DR-NTU URL</th>\n",
       "      <th>Website URL</th>\n",
       "      <th>DBLP URL</th>\n",
       "      <th>Citations (All)</th>\n",
       "    </tr>\n",
       "  </thead>\n",
       "  <tbody>\n",
       "    <tr>\n",
       "      <th>0</th>\n",
       "      <td>Wai Kin Adams Kong</td>\n",
       "      <td>adamskong@ntu.edu.sg</td>\n",
       "      <td>https://dr.ntu.edu.sg/cris/rp/rp00834</td>\n",
       "      <td>NaN</td>\n",
       "      <td>https://dblp.org/pid/16/3792.html</td>\n",
       "      <td>NaN</td>\n",
       "    </tr>\n",
       "    <tr>\n",
       "      <th>1</th>\n",
       "      <td>Luu Anh Tuan</td>\n",
       "      <td>anhtuan.luu@ntu.edu.sg</td>\n",
       "      <td>https://dr.ntu.edu.sg/cris/rp/rp01296</td>\n",
       "      <td>https://tuanluu.github.io/</td>\n",
       "      <td>https://dblp.org/pid/81/8329.html</td>\n",
       "      <td>2949.0</td>\n",
       "    </tr>\n",
       "    <tr>\n",
       "      <th>2</th>\n",
       "      <td>Anupam Chattopadhyay</td>\n",
       "      <td>anupam@ntu.edu.sg</td>\n",
       "      <td>https://dr.ntu.edu.sg/cris/rp/rp01076</td>\n",
       "      <td>https://scholar.google.co.in/citations?user=TI...</td>\n",
       "      <td>https://dblp.org/pid/99/4535.html</td>\n",
       "      <td>4891.0</td>\n",
       "    </tr>\n",
       "    <tr>\n",
       "      <th>3</th>\n",
       "      <td>Anwitaman Datta</td>\n",
       "      <td>anwitaman@ntu.edu.sg</td>\n",
       "      <td>https://dr.ntu.edu.sg/cris/rp/rp00706</td>\n",
       "      <td>https://personal.ntu.edu.sg/anwitaman/</td>\n",
       "      <td>https://dblp.org/pid/d/AnwitamanDatta.html</td>\n",
       "      <td>7673.0</td>\n",
       "    </tr>\n",
       "    <tr>\n",
       "      <th>4</th>\n",
       "      <td>Arvind Easwaran</td>\n",
       "      <td>arvinde@ntu.edu.sg</td>\n",
       "      <td>https://dr.ntu.edu.sg/cris/rp/rp00687</td>\n",
       "      <td>https://cps-research-group.github.io/</td>\n",
       "      <td>https://dblp.org/pid/73/1708.html</td>\n",
       "      <td>2509.0</td>\n",
       "    </tr>\n",
       "    <tr>\n",
       "      <th>...</th>\n",
       "      <td>...</td>\n",
       "      <td>...</td>\n",
       "      <td>...</td>\n",
       "      <td>...</td>\n",
       "      <td>...</td>\n",
       "      <td>...</td>\n",
       "    </tr>\n",
       "    <tr>\n",
       "      <th>77</th>\n",
       "      <td>Loke Yuan Ren</td>\n",
       "      <td>yrloke@ntu.edu.sg</td>\n",
       "      <td>https://dr.ntu.edu.sg/cris/rp/rp00585</td>\n",
       "      <td>https://personal.ntu.edu.sg/yrloke/</td>\n",
       "      <td>https://dblp.org/pid/11/9550.html</td>\n",
       "      <td>13.0</td>\n",
       "    </tr>\n",
       "    <tr>\n",
       "      <th>78</th>\n",
       "      <td>Zhang Jie</td>\n",
       "      <td>zhangj@ntu.edu.sg</td>\n",
       "      <td>https://dr.ntu.edu.sg/cris/rp/rp00759</td>\n",
       "      <td>https://personal.ntu.edu.sg/zhangj/</td>\n",
       "      <td>https://dblp.org/pid/84/6889-2.html</td>\n",
       "      <td>10322.0</td>\n",
       "    </tr>\n",
       "    <tr>\n",
       "      <th>79</th>\n",
       "      <td>Zinovi Rabinovich</td>\n",
       "      <td>zinovi@ntu.edu.sg</td>\n",
       "      <td>https://dr.ntu.edu.sg/cris/rp/rp00214</td>\n",
       "      <td>zinovi.net</td>\n",
       "      <td>https://dblp.org/pid/93/4009.html</td>\n",
       "      <td>945.0</td>\n",
       "    </tr>\n",
       "    <tr>\n",
       "      <th>80</th>\n",
       "      <td>Liu Ziwei</td>\n",
       "      <td>ziwei.liu@ntu.edu.sg</td>\n",
       "      <td>https://dr.ntu.edu.sg/cris/rp/rp00203</td>\n",
       "      <td>https://liuziwei7.github.io/</td>\n",
       "      <td>https://dblp.org/pid/05/6300-2.html</td>\n",
       "      <td>18816.0</td>\n",
       "    </tr>\n",
       "    <tr>\n",
       "      <th>81</th>\n",
       "      <td>Shen Zhiqi</td>\n",
       "      <td>zqshen@ntu.edu.sg</td>\n",
       "      <td>https://dr.ntu.edu.sg/cris/rp/rp00227</td>\n",
       "      <td>https://personal.ntu.edu.sg/zqshen</td>\n",
       "      <td>https://dblp.org/pid/03/1554-1.html</td>\n",
       "      <td>5570.0</td>\n",
       "    </tr>\n",
       "  </tbody>\n",
       "</table>\n",
       "<p>82 rows × 6 columns</p>\n",
       "</div>"
      ],
      "text/plain": [
       "               Full Name                   Email  \\\n",
       "0     Wai Kin Adams Kong    adamskong@ntu.edu.sg   \n",
       "1           Luu Anh Tuan  anhtuan.luu@ntu.edu.sg   \n",
       "2   Anupam Chattopadhyay       anupam@ntu.edu.sg   \n",
       "3        Anwitaman Datta    anwitaman@ntu.edu.sg   \n",
       "4        Arvind Easwaran      arvinde@ntu.edu.sg   \n",
       "..                   ...                     ...   \n",
       "77         Loke Yuan Ren       yrloke@ntu.edu.sg   \n",
       "78             Zhang Jie       zhangj@ntu.edu.sg   \n",
       "79     Zinovi Rabinovich       zinovi@ntu.edu.sg   \n",
       "80             Liu Ziwei    ziwei.liu@ntu.edu.sg   \n",
       "81            Shen Zhiqi       zqshen@ntu.edu.sg   \n",
       "\n",
       "                               DR-NTU URL  \\\n",
       "0   https://dr.ntu.edu.sg/cris/rp/rp00834   \n",
       "1   https://dr.ntu.edu.sg/cris/rp/rp01296   \n",
       "2   https://dr.ntu.edu.sg/cris/rp/rp01076   \n",
       "3   https://dr.ntu.edu.sg/cris/rp/rp00706   \n",
       "4   https://dr.ntu.edu.sg/cris/rp/rp00687   \n",
       "..                                    ...   \n",
       "77  https://dr.ntu.edu.sg/cris/rp/rp00585   \n",
       "78  https://dr.ntu.edu.sg/cris/rp/rp00759   \n",
       "79  https://dr.ntu.edu.sg/cris/rp/rp00214   \n",
       "80  https://dr.ntu.edu.sg/cris/rp/rp00203   \n",
       "81  https://dr.ntu.edu.sg/cris/rp/rp00227   \n",
       "\n",
       "                                          Website URL  \\\n",
       "0                                                 NaN   \n",
       "1                          https://tuanluu.github.io/   \n",
       "2   https://scholar.google.co.in/citations?user=TI...   \n",
       "3              https://personal.ntu.edu.sg/anwitaman/   \n",
       "4               https://cps-research-group.github.io/   \n",
       "..                                                ...   \n",
       "77                https://personal.ntu.edu.sg/yrloke/   \n",
       "78                https://personal.ntu.edu.sg/zhangj/   \n",
       "79                                         zinovi.net   \n",
       "80                       https://liuziwei7.github.io/   \n",
       "81                 https://personal.ntu.edu.sg/zqshen   \n",
       "\n",
       "                                      DBLP URL  Citations (All)  \n",
       "0            https://dblp.org/pid/16/3792.html              NaN  \n",
       "1            https://dblp.org/pid/81/8329.html           2949.0  \n",
       "2            https://dblp.org/pid/99/4535.html           4891.0  \n",
       "3   https://dblp.org/pid/d/AnwitamanDatta.html           7673.0  \n",
       "4            https://dblp.org/pid/73/1708.html           2509.0  \n",
       "..                                         ...              ...  \n",
       "77           https://dblp.org/pid/11/9550.html             13.0  \n",
       "78         https://dblp.org/pid/84/6889-2.html          10322.0  \n",
       "79           https://dblp.org/pid/93/4009.html            945.0  \n",
       "80         https://dblp.org/pid/05/6300-2.html          18816.0  \n",
       "81         https://dblp.org/pid/03/1554-1.html           5570.0  \n",
       "\n",
       "[82 rows x 6 columns]"
      ]
     },
     "execution_count": 2,
     "metadata": {},
     "output_type": "execute_result"
    }
   ],
   "source": [
    "df = pd.read_csv('Ta_Quynh_Nga.csv')\n",
    "df"
   ]
  },
  {
   "cell_type": "markdown",
   "id": "3ac27d89",
   "metadata": {},
   "source": [
    "# Broad Areas"
   ]
  },
  {
   "cell_type": "code",
   "execution_count": 3,
   "id": "a882fe0b",
   "metadata": {
    "scrolled": true
   },
   "outputs": [
    {
     "name": "stdout",
     "output_type": "stream",
     "text": [
      "Hardware & Embedded Systems\n",
      "['low-energy hardware', 'hardware acceleration', 'architecture-aware algorithms', 'reconfigurable computing', 'embedded sensing', 'multi-functional sensors', 'IP-enabled devices']\n",
      "\n",
      "Cyber Security and Forensics\n",
      "['data privacy', 'privacy-preserving analytics', 'malware analysis', 'formal systems verification', 'mobile device security', 'cyber attack attribution', 'dark web monitoring', 'botnet detection', 'encrypted data processing', 'biometrics', 'cyber forensics']\n",
      "\n",
      "Data Management & Analytics\n",
      "['spatio-temporal databases', 'graph-structured databases', 'big data analytics', 'predictive analytics', 'social media analytics', 'question-answer systems', 'sentiment analysis']\n",
      "\n",
      "Computational Intelligence\n",
      "['cognitive and neuro systems', 'decision support systems', 'evolutionary', 'memetic and statistical learning', 'fuzzy systems', 'intelligent multi-agents', 'intelligent system and devices', 'machine learning and nature-inspired systems']\n",
      "\n",
      "Computer Vision & Language\n",
      "['computer vision', 'multimedia', 'image processing', 'video analytics', 'speech and signal processing', '3D geometric modeling', 'fringe pattern analysis', 'machine translation']\n",
      "\n",
      "Graphics & Interactive Computing\n",
      "['human computer interaction', 'user experience design', 'augmented reality', 'avatar behavior modeling', 'serious gaming', 'gamification']\n",
      "\n",
      "Computer Networks & Communications\n",
      "['software defined networks', 'peer-to-peer networking', 'data-center networking', 'heterogeneous networks', 'mobile cloud computing', 'machine type communications ', 'MTC', 'cognitive radio']\n",
      "\n",
      "Parallel & Distributed Computing\n",
      "['distributed systems/computing ', 'collaborative technologies', 'p2p systems', 'sensor networks', 'theory and algorithms', 'high performance computing ', 'grid and cloud computing', 'GPGPU', 'performance optimization and tools', 'and large scale simulation ', 'agent-based simulation', 'decision support systems', 'virtual environments']\n",
      "\n",
      "Biomedical Informatics\n",
      "['diagnostic instrumentation', 'advanced medical imaging and visualization', 'physiological models', 'bioinformatics & computational biology', 'quantitative methods in medicine', 'healthcare information systems', 'security telemedicine & clinical data mining']\n",
      "\n"
     ]
    }
   ],
   "source": [
    "url = 'https://www.ntu.edu.sg/scse/about-us/our-people'\n",
    "soup_source = requests.get(url).text\n",
    "soup = BeautifulSoup(soup_source,'lxml')\n",
    "areas = {}\n",
    "for row in soup.find(\"ol\").find_all('li'):\n",
    "    broad_area = row.find('strong').text\n",
    "    specific_areas = row.text.split(': ')[-1].replace('\\n', '').replace('(', ', ').replace(')', ', ')\n",
    "    specific_areas = specific_areas.split(', ')\n",
    "    specific_areas = [a for a in specific_areas if a != '' and a != '.']\n",
    "    specific_areas[-1] = specific_areas[-1].split('.')[0]\n",
    "    print(f'{broad_area}\\n{specific_areas}\\n')\n",
    "    areas[broad_area] = specific_areas\n",
    "    \n",
    "areas['Artificial Intelligence'] = ['Artificial Intelligence', 'Deep learning', 'Machine Learning',\n",
    "                                    'Reinforcement Learning']\n",
    "areas['Computer Vision & Language'].append('Natural Language Processing')\n",
    "areas['Data Management & Analytics'].append('Data mining')"
   ]
  },
  {
   "cell_type": "code",
   "execution_count": 4,
   "id": "5183dac7",
   "metadata": {},
   "outputs": [],
   "source": [
    "def find_research_interest(soup):\n",
    "    research_interest = []\n",
    "    if not soup.find('div', id='researchinterestsDiv') is None:\n",
    "        research_interest_text = soup.find('div', id='researchinterestsDiv').text.strip()\n",
    "        # search in areas\n",
    "        for k, v in areas.items():\n",
    "            for area in v:\n",
    "                if area.lower() in research_interest_text.lower():\n",
    "                    research_interest.append(area)\n",
    "        \n",
    "        # search <br>\n",
    "        breaks = soup.find('div', id='researchinterestsDiv').get_text(strip=True, separator='\\n').splitlines()\n",
    "        if len(breaks) > 1:\n",
    "            breaks = [b.replace('•\\t', '').replace('- ', '').replace('+ ', '') for b in breaks if len(b) < 70]\n",
    "            research_interest.extend(breaks)\n",
    "            print(research_interest)\n",
    "\n",
    "    return research_interest"
   ]
  },
  {
   "cell_type": "code",
   "execution_count": 5,
   "id": "d1034d14",
   "metadata": {
    "scrolled": true
   },
   "outputs": [
    {
     "data": {
      "application/vnd.jupyter.widget-view+json": {
       "model_id": "f3049bfd1f5e497aaad0f66e11ad1e33",
       "version_major": 2,
       "version_minor": 0
      },
      "text/plain": [
       "  0%|          | 0/82 [00:00<?, ?it/s]"
      ]
     },
     "metadata": {},
     "output_type": "display_data"
    },
    {
     "name": "stdout",
     "output_type": "stream",
     "text": [
      "0 https://dr.ntu.edu.sg/cris/rp/rp00834 Wai Kin Adams Kong\n",
      "\n",
      "1 https://dr.ntu.edu.sg/cris/rp/rp01296 Luu Anh Tuan\n",
      "\n",
      "2 https://dr.ntu.edu.sg/cris/rp/rp01076 Anupam Chattopadhyay\n",
      "['Computing Architecture', 'Design Automation', 'Security', 'Emerging Technologies']\n",
      "\n",
      "3 https://dr.ntu.edu.sg/cris/rp/rp00706 Anwitaman Datta\n",
      "\n",
      "4 https://dr.ntu.edu.sg/cris/rp/rp00687 Arvind Easwaran\n",
      "['Resource Management in IoT and Edge', 'Safety Assurance in Learning Enabled Components', 'Model-driven Operational Optimization']\n",
      "\n",
      "5 https://dr.ntu.edu.sg/cris/rp/rp00839 Vun Chan Hua, Nicholas\n",
      "\n",
      "6 https://dr.ntu.edu.sg/cris/rp/rp00799 Kwoh Chee Keong\n",
      "['Data mining', 'Data Mining and Analysis on Infectious Disease', 'Heterogeneous Multi-Core Systems For Bioinformatics', 'Constrained Optimzation for Bioinformatics', 'Protein Interaction Network Analysis Using Graph Mining Approaches']\n",
      "\n",
      "7 https://dr.ntu.edu.sg/cris/rp/rp00963 Yeo Chai Kiat\n",
      "\n",
      "8 https://dr.ntu.edu.sg/cris/rp/rp00670 Lau Chiew Tong\n",
      "\n",
      "9 https://dr.ntu.edu.sg/cris/rp/rp00084 Miao Chun Yan\n",
      "\n",
      "10 https://dr.ntu.edu.sg/cris/rp/rp01059 Douglas Leslie Maskell\n",
      "['reconfigurable computing']\n",
      "\n",
      "11 https://dr.ntu.edu.sg/cris/rp/rp01157 Deepu Rajan\n",
      "\n",
      "12 https://dr.ntu.edu.sg/cris/rp/rp00098 Chng Eng Siong\n",
      "\n",
      "13 https://dr.ntu.edu.sg/cris/rp/rp01161 Li Fang\n",
      "\n",
      "14 https://dr.ntu.edu.sg/cris/rp/rp00958 Lin Feng\n",
      "\n",
      "15 https://dr.ntu.edu.sg/cris/rp/rp00707 Quek Hiok Chai\n",
      "\n",
      "16 https://dr.ntu.edu.sg/cris/rp/rp00345 Seah Hock Soon\n",
      "\n",
      "17 https://dr.ntu.edu.sg/cris/rp/rp00169 Jagath Chandana Rajapakse\n",
      "['Machine Learning']\n",
      "\n",
      "18 https://dr.ntu.edu.sg/cris/rp/rp00072 Zheng Jianmin\n",
      "\n",
      "19 https://dr.ntu.edu.sg/cris/rp/rp00991 Chia Liang Tien\n",
      "\n",
      "20 https://dr.ntu.edu.sg/cris/rp/rp00083 A S Madhukumar\n",
      "['cognitive radio', 'Artificial Intelligence', 'Machine Learning', 'Multi-tier cellular architecture for future broadband systems', 'Cognitive radio systems: algorithms and architectures', 'Cooperative Radio Systems for Mobile multi-hop networks', 'Modulation and multiple access schemes for future broadband systems']\n",
      "\n",
      "21 https://dr.ntu.edu.sg/cris/rp/rp00691 Chan Syin\n",
      "\n",
      "22 https://dr.ntu.edu.sg/cris/rp/rp00700 Hui Siu Cheung\n",
      "\n",
      "23 https://dr.ntu.edu.sg/cris/rp/rp00901 Lam Siew Kei\n",
      "\n",
      "24 https://dr.ntu.edu.sg/cris/rp/rp00915 Sourav Saha Bhowmick\n",
      "\n",
      "25 https://dr.ntu.edu.sg/cris/rp/rp00274 Alexei Sourin\n",
      "\n",
      "26 https://dr.ntu.edu.sg/cris/rp/rp00643 Huang Shell Ying\n",
      "\n",
      "27 https://dr.ntu.edu.sg/cris/rp/rp01067 Cham Tat Jen\n",
      "\n",
      "28 https://dr.ntu.edu.sg/cris/rp/rp00841 Thambipillai Srikanthan\n",
      "['image processing', 'Artificial Intelligence']\n",
      "\n",
      "29 https://dr.ntu.edu.sg/cris/rp/rp00693 Goh Wooi Boon\n",
      "\n",
      "30 https://dr.ntu.edu.sg/cris/rp/rp00964 Wentong Cai\n",
      "\n",
      "31 https://dr.ntu.edu.sg/cris/rp/rp00075 Tang Xueyan\n",
      "\n",
      "32 https://dr.ntu.edu.sg/cris/rp/rp00092 Ong Yew Soon\n",
      "\n",
      "33 https://dr.ntu.edu.sg/cris/rp/rp01094 Wee Keong NG\n",
      "['Artificial Intelligence', 'Machine Learning', 'Machine learning / Artificial intelligence', 'Privacy-preserving data analytical techniques', 'Encrypted databases', 'Enterprise blockchain systems', 'Data security']\n",
      "\n",
      "34 https://dr.ntu.edu.sg/cris/rp/rp00552 Sun Aixin\n",
      "\n",
      "35 https://dr.ntu.edu.sg/cris/rp/rp00698 Bo An\n",
      "\n",
      "36 https://dr.ntu.edu.sg/cris/rp/rp01289 Li Boyang\n",
      "\n",
      "37 https://dr.ntu.edu.sg/cris/rp/rp00772 Long Cheng\n",
      "['big data analytics', 'Data mining', 'Spatio-temporal data management, mining and learning', 'Graph data mining', 'Big data analytics', 'Urban informatics and computing']\n",
      "\n",
      "38 https://dr.ntu.edu.sg/cris/rp/rp00927 Erik Cambria\n",
      "['sentiment analysis', 'sentic computing', 'sentiment analysis', 'commonsense reasoning', 'natural language understanding']\n",
      "\n",
      "39 https://dr.ntu.edu.sg/cris/rp/rp00574 Chen Change Loy\n",
      "['computer vision', 'Deep learning', 'Links:', 'Personal Homepage', 'MMLab@NTU', 'Google Scholar Profile']\n",
      "\n",
      "40 https://dr.ntu.edu.sg/cris/rp/rp02029 Chee Wei Tan\n",
      "\n",
      "41 https://dr.ntu.edu.sg/cris/rp/rp01023 Guan Cuntai\n",
      "['image processing', 'Artificial Intelligence', 'Machine Learning', 'Brain-Computer Interface', 'Machine learning', 'Data Analytics', 'Artificial Intelligence', 'Neural Signal Processing', 'Medical Image Processing', 'Neural Cognitive Process and Rehabilitation']\n",
      "\n",
      "42 https://dr.ntu.edu.sg/cris/rp/rp01008 Dusit Niyato\n",
      "['evolutionary', 'cognitive radio']\n",
      "\n",
      "43 https://dr.ntu.edu.sg/cris/rp/rp00531 Lee Bu Sung\n",
      "['high performance computing ', 'Research Awards:']\n",
      "\n",
      "44 https://dr.ntu.edu.sg/cris/rp/rp00744 Cong Gao\n",
      "['Data mining', 'Geospatial, Textual, and Mobility Data Management', 'Data Mining, Large Scale Data Analytics', 'Mining Social Networks and Social Media', 'User Preference Modeling and Recommendation', 'Urban Informatics']\n",
      "\n",
      "45 https://dr.ntu.edu.sg/cris/rp/rp00483 Lin Guosheng\n",
      "\n",
      "46 https://dr.ntu.edu.sg/cris/rp/rp00334 Yu Han\n",
      "['Artificial Intelligence', 'Crowdsourcing and Human Computation', 'Ethical Artificial Intelligence (AI)', 'Federated Learning', 'Trust and Reputation Management']\n",
      "\n",
      "47 https://dr.ntu.edu.sg/cris/rp/rp01149 Zhang Hanwang\n",
      "['1. Multimodal Graph Construction and Inference', '2. Learning Compositional Structures in Vision and Language.', '3. Multimodal Machine Reasoning']\n",
      "\n",
      "48 https://dr.ntu.edu.sg/cris/rp/rp00131 Oh Hong Lye\n",
      "['Embedded System', 'Wireless Connectivity']\n",
      "\n",
      "49 https://dr.ntu.edu.sg/cris/rp/rp01107 Luo Jun\n",
      "['computer vision', 'Machine Learning', 'Mobile and Pervasive Computing', 'Machine Learning and Computer Vision', 'Applied Operations Research', 'Computer Networks']\n",
      "\n",
      "50 https://dr.ntu.edu.sg/cris/rp/rp00501 Zhao Jun\n",
      "['computer vision', 'Natural Language Processing', 'Deep learning', 'Machine Learning', 'Reinforcement Learning']\n",
      "\n",
      "51 https://dr.ntu.edu.sg/cris/rp/rp00174 Tay Kian Boon\n",
      "['Public Key algorithms', 'Security of crypto algorithms, protocols & Random Number Generators', 'Discrete Math (combinatorics, number theory)', 'Mathematical analysis']\n",
      "\n",
      "52 https://dr.ntu.edu.sg/cris/rp/rp00321 Lam Kwok Yan\n",
      "['biometrics', 'Distributed Systems Security,', 'Cyber Security,', 'Multi-modal Biometrics in Homeland Security,', 'Enterprise Architecture,', 'Biometric Cryptography,', 'Critical Information Infrastructure Protection (CIIP).']\n",
      "\n",
      "53 https://dr.ntu.edu.sg/cris/rp/rp00219 Lana Obraztsova\n",
      "\n",
      "54 https://dr.ntu.edu.sg/cris/rp/rp00937 Li Mo\n",
      "\n",
      "55 https://dr.ntu.edu.sg/cris/rp/rp00280 Liu Weichen\n",
      "['Embedded and Real-time Systems', 'Many-core systems', 'Electronic/Photonic Network-on-chip', 'Computer Architecture']\n",
      "\n",
      "56 https://dr.ntu.edu.sg/cris/rp/rp02044 Luke Ong （翁之昊）\n",
      "\n",
      "57 https://dr.ntu.edu.sg/cris/rp/rp00891 Qian Kemao\n",
      "\n",
      "58 https://dr.ntu.edu.sg/cris/rp/rp00314 Mohamed M. Sabry\n",
      "['Computer architecture', 'AI-based systems design and optimization', 'Emerging nanotechnologies', 'System-level design and optimization', 'Power and thermal management', 'Simulation of computing systems', 'IoT design and optimization']\n",
      "\n",
      "59 https://dr.ntu.edu.sg/cris/rp/rp00400 Owen Noel Newton Fernando\n",
      "['augmented reality', 'Crowdsourcing & Social Computing', 'Mobile Augmented Reality', 'Multimodal Interfaces and Interactive Systems', 'Human-Computer Interaction']\n",
      "\n",
      "60 https://dr.ntu.edu.sg/cris/rp/rp00861 Lin Shang-Wei\n",
      "\n",
      "61 https://dr.ntu.edu.sg/cris/rp/rp01128 Lu Shijian\n",
      "['computer vision', 'video analytics', 'Deep learning', 'Computer Vision and Sensing', 'Image and Video Analytics', 'Visual Intelligence', 'Deep Learning']\n",
      "\n",
      "62 https://dr.ntu.edu.sg/cris/rp/rp00122 Pan, Sinno Jialin\n",
      "\n",
      "63 https://dr.ntu.edu.sg/cris/rp/rp01311 Luo Siqiang （骆思强）\n",
      "\n",
      "64 https://dr.ntu.edu.sg/cris/rp/rp00612 Smitha K G\n",
      "['cognitive radio', 'VLSI design', 'Digital Signal Processing,', 'Biomedical Signal Processing', 'Brain-machine Interface-algorithms and applications,', 'Computer Arithmetic']\n",
      "\n",
      "65 https://dr.ntu.edu.sg/cris/rp/rp00319 Joty Shafiq Rayhan\n",
      "['sentiment analysis', 'machine translation', 'Natural Language Processing', 'Deep learning', 'Machine Learning', 'Reinforcement Learning', 'Natural Language Processing', 'Discourse Processing', 'Question Answering', 'Machine Translation', 'Text Summarization', 'Sentiment Analysis', 'Machine Learning', 'Probabilistic Graphical Models', 'Deep Learning', 'Reinforcement Learning', 'Representation Learning']\n",
      "\n",
      "66 https://dr.ntu.edu.sg/cris/rp/rp00504 Tan Rui\n",
      "['sensor networks', 'AIoT (AI IoT)', 'Thermal and energy management in data centers', 'Secure sensing and control in smart grids']\n",
      "\n",
      "67 https://dr.ntu.edu.sg/cris/rp/rp00562 Zhang Tianwei\n"
     ]
    },
    {
     "name": "stdout",
     "output_type": "stream",
     "text": [
      "['Deep learning', 'Machine Learning']\n",
      "\n",
      "68 https://dr.ntu.edu.sg/cris/rp/rp01275 Vanessa Evers\n",
      "\n",
      "69 https://dr.ntu.edu.sg/cris/rp/rp01361 Vidya Sudarshan\n",
      "\n",
      "70 https://dr.ntu.edu.sg/cris/rp/rp00683 Lin Weisi\n",
      "\n",
      "71 https://dr.ntu.edu.sg/cris/rp/rp01665 Fan Xiuyi\n",
      "\n",
      "72 https://dr.ntu.edu.sg/cris/rp/rp00564 Liu Yang\n",
      "['Deep learning', 'Machine Learning']\n",
      "\n",
      "73 https://dr.ntu.edu.sg/cris/rp/rp01090 Wen Yonggang\n",
      "['multimedia', 'Machine Learning', 'Cloud Computing and Green Data Centre', 'Multimedia Computing and Communications', 'Machine Learning Systems and Applications']\n",
      "\n",
      "74 https://dr.ntu.edu.sg/cris/rp/rp00503 He Ying\n",
      "['Computer graphics', 'Computer-aided design', 'Geometric modeling and processing']\n",
      "\n",
      "75 https://dr.ntu.edu.sg/cris/rp/rp00572 Li Yi\n",
      "\n",
      "76 https://dr.ntu.edu.sg/cris/rp/rp00908 Ke Yiping, Kelly\n",
      "['Data mining', 'Artificial Intelligence', 'Machine Learning']\n",
      "\n",
      "77 https://dr.ntu.edu.sg/cris/rp/rp00585 Loke Yuan Ren\n",
      "\n",
      "78 https://dr.ntu.edu.sg/cris/rp/rp00759 Zhang Jie\n",
      "['Artificial Intelligence', 'Artificial Intelligence', 'Multi-Agent Systems', 'Trust Management', 'Incentive Mechanism']\n",
      "\n",
      "79 https://dr.ntu.edu.sg/cris/rp/rp00214 Zinovi Rabinovich\n",
      "\n",
      "80 https://dr.ntu.edu.sg/cris/rp/rp00203 Liu Ziwei\n",
      "\n",
      "81 https://dr.ntu.edu.sg/cris/rp/rp00227 Shen Zhiqi\n",
      "\n"
     ]
    }
   ],
   "source": [
    "for i, row in tqdm(df.iterrows(), total=len(df)):\n",
    "    url = row['DR-NTU URL']\n",
    "    print(i, url, row['Full Name'])\n",
    "    soup_source = requests.get(url).text\n",
    "    soup = BeautifulSoup(soup_source,'lxml')\n",
    "    background = soup.find('div', id='biographyDiv').text.strip()\n",
    "\n",
    "    research_interest = find_research_interest(soup)\n",
    "\n",
    "    keywords = []\n",
    "    for item in soup.find_all('span', class_='rkeyword'):\n",
    "        if item.text.strip() not in ['Computer Science and Engineering', 'Electrical and Electronic Engineering']:\n",
    "            keywords.append(item.text.strip())\n",
    "\n",
    "    author_keywords = []\n",
    "    if not soup.find('div', id='authortagsDiv') is None:\n",
    "        for item in soup.find('div', id='authortagsDiv').find_all('a'):\n",
    "            author_keywords.append(item.text.strip())\n",
    "#     print(keywords, author_keywords, research_interest)\n",
    "    print()"
   ]
  },
  {
   "cell_type": "code",
   "execution_count": null,
   "id": "82db4790",
   "metadata": {},
   "outputs": [],
   "source": [
    "[39, 43, 47]"
   ]
  },
  {
   "cell_type": "code",
   "execution_count": 205,
   "id": "bf33d111",
   "metadata": {},
   "outputs": [
    {
     "data": {
      "text/html": [
       "<div>\n",
       "<style scoped>\n",
       "    .dataframe tbody tr th:only-of-type {\n",
       "        vertical-align: middle;\n",
       "    }\n",
       "\n",
       "    .dataframe tbody tr th {\n",
       "        vertical-align: top;\n",
       "    }\n",
       "\n",
       "    .dataframe thead th {\n",
       "        text-align: right;\n",
       "    }\n",
       "</style>\n",
       "<table border=\"1\" class=\"dataframe\">\n",
       "  <thead>\n",
       "    <tr style=\"text-align: right;\">\n",
       "      <th></th>\n",
       "      <th>Full Name</th>\n",
       "      <th>Email</th>\n",
       "      <th>DR-NTU URL</th>\n",
       "      <th>Website URL</th>\n",
       "      <th>DBLP URL</th>\n",
       "      <th>Citations (All)</th>\n",
       "    </tr>\n",
       "  </thead>\n",
       "  <tbody>\n",
       "    <tr>\n",
       "      <th>9</th>\n",
       "      <td>Miao Chun Yan</td>\n",
       "      <td>ascymiao@ntu.edu.sg</td>\n",
       "      <td>https://dr.ntu.edu.sg/cris/rp/rp00084</td>\n",
       "      <td>https://personal.ntu.edu.sg/ascymiao</td>\n",
       "      <td>https://dblp.org/pid/m/ChunyanMiao.html</td>\n",
       "      <td>13007.0</td>\n",
       "    </tr>\n",
       "  </tbody>\n",
       "</table>\n",
       "</div>"
      ],
      "text/plain": [
       "       Full Name                Email                             DR-NTU URL  \\\n",
       "9  Miao Chun Yan  ascymiao@ntu.edu.sg  https://dr.ntu.edu.sg/cris/rp/rp00084   \n",
       "\n",
       "                            Website URL  \\\n",
       "9  https://personal.ntu.edu.sg/ascymiao   \n",
       "\n",
       "                                  DBLP URL  Citations (All)  \n",
       "9  https://dblp.org/pid/m/ChunyanMiao.html          13007.0  "
      ]
     },
     "execution_count": 205,
     "metadata": {},
     "output_type": "execute_result"
    }
   ],
   "source": [
    "df[df['Full Name'] == 'Miao Chun Yan']"
   ]
  },
  {
   "cell_type": "code",
   "execution_count": 129,
   "id": "6fc91202",
   "metadata": {},
   "outputs": [
    {
     "name": "stdout",
     "output_type": "stream",
     "text": [
      "https://dr.ntu.edu.sg/cris/rp/rp00772 Long Cheng\n",
      "[] [] ['big data analytics', '•\\tSpatio-temporal data management, mining and learning', '•\\tGraph data mining', '•\\tBig data analytics', '•\\tUrban informatics and computing']\n",
      "\n"
     ]
    }
   ],
   "source": [
    "row = df.iloc[37]\n",
    "url = row['DR-NTU URL']\n",
    "print(url, row['Full Name'])\n",
    "soup_source = requests.get(url).text\n",
    "soup = BeautifulSoup(soup_source,'lxml')\n",
    "biography = soup.find('div', id='biographyDiv').text.strip()\n",
    "\n",
    "if not soup.find('div', id='researchinterestsDiv') is None:\n",
    "    research_interest_text = soup.find('div', id='researchinterestsDiv').text.strip()\n",
    "    research_interest = find_research_interest(research_interest_text)\n",
    "    if len(soup.find('div', id='researchinterestsDiv').get_text(strip=True, separator='\\n').splitlines()) > 1:\n",
    "        research_interest.extend(soup.find('div', id='researchinterestsDiv').get_text(strip=True, separator='\\n').splitlines())\n",
    "\n",
    "keywords = []\n",
    "for item in soup.find_all('span', class_='rkeyword'):\n",
    "    if item.text.strip() not in ['Computer Science and Engineering', 'Electrical and Electronic Engineering']:\n",
    "        keywords.append(item.text.strip())\n",
    "\n",
    "author_keywords = []\n",
    "if not soup.find('div', id='authortagsDiv') is None:\n",
    "    for item in soup.find('div', id='authortagsDiv').find_all('a'):\n",
    "        author_keywords.append(item.text.strip())\n",
    "print(keywords, author_keywords, research_interest)\n",
    "print()"
   ]
  },
  {
   "cell_type": "code",
   "execution_count": 123,
   "id": "3dbb04ec",
   "metadata": {},
   "outputs": [
    {
     "data": {
      "text/plain": [
       "'\\n•\\tSpatio-temporal data management, mining and learning•\\tGraph data mining•\\tBig data analytics•\\tUrban informatics and computing\\n'"
      ]
     },
     "execution_count": 123,
     "metadata": {},
     "output_type": "execute_result"
    }
   ],
   "source": [
    "soup.find('div', id='researchinterestsDiv').get_text()"
   ]
  },
  {
   "cell_type": "code",
   "execution_count": 102,
   "id": "7090ed0c",
   "metadata": {},
   "outputs": [],
   "source": [
    "def find_research_interest(research_interest):\n",
    "    ans = []\n",
    "    for k, v in areas.items():\n",
    "        for area in v:\n",
    "            print(area)\n",
    "            if area.lower() in research_interest.lower():\n",
    "                ans.append(area)\n",
    "    return ans"
   ]
  },
  {
   "cell_type": "code",
   "execution_count": 100,
   "id": "afad49e6",
   "metadata": {
    "scrolled": true
   },
   "outputs": [
    {
     "name": "stdout",
     "output_type": "stream",
     "text": [
      "low-energy hardware\n",
      "hardware acceleration\n",
      "architecture-aware algorithms\n",
      "reconfigurable computing\n",
      "embedded sensing\n",
      "multi-functional sensors\n",
      "IP-enabled devices\n",
      "data privacy\n",
      "privacy-preserving analytics\n",
      "malware analysis\n",
      "formal systems verification\n",
      "mobile device security\n",
      "cyber attack attribution\n",
      "dark web monitoring\n",
      "botnet detection\n",
      "encrypted data processing\n",
      "biometrics\n",
      "cyber forensics\n",
      "spatio-temporal databases\n",
      "graph-structured databases\n",
      "big data analytics\n",
      "predictive analytics\n",
      "social media analytics\n",
      "question-answer systems\n",
      "sentiment analysis\n",
      "cognitive and neuro systems\n",
      "decision support systems\n",
      "evolutionary\n",
      "memetic and statistical learning\n",
      "fuzzy systems\n",
      "intelligent multi-agents\n",
      "intelligent system and devices\n",
      "machine learning and nature-inspired systems\n",
      "computer vision\n",
      "multimedia\n",
      "image processing\n",
      "video analytics\n",
      "speech and signal processing\n",
      "3D geometric modeling\n",
      "fringe pattern analysis\n",
      "machine translation\n",
      "Natural Language Processing\n",
      "human computer interaction\n",
      "user experience design\n",
      "augmented reality\n",
      "avatar behavior modeling\n",
      "serious gaming\n",
      "gamification\n",
      "software defined networks\n",
      "peer-to-peer networking\n",
      "data-center networking\n",
      "heterogeneous networks\n",
      "mobile cloud computing\n",
      "machine type communications \n",
      "MTC\n",
      "cognitive radio\n",
      "distributed systems/computing \n",
      "collaborative technologies\n",
      "p2p systems\n",
      "sensor networks\n",
      "theory and algorithms\n",
      "high performance computing \n",
      "grid and cloud computing\n",
      "GPGPU\n",
      "performance optimization and tools\n",
      "and large scale simulation \n",
      "agent-based simulation\n",
      "decision support systems\n",
      "virtual environments\n",
      "diagnostic instrumentation\n",
      "advanced medical imaging and visualization\n",
      "physiological models\n",
      "bioinformatics & computational biology\n",
      "quantitative methods in medicine\n",
      "healthcare information systems\n",
      "security telemedicine & clinical data mining\n",
      "Artificial Intelligence\n",
      "Deep learning\n",
      "Machine Learning\n"
     ]
    },
    {
     "data": {
      "text/plain": [
       "[]"
      ]
     },
     "execution_count": 100,
     "metadata": {},
     "output_type": "execute_result"
    }
   ],
   "source": [
    "find_research_interest(research_interest_text)"
   ]
  },
  {
   "cell_type": "markdown",
   "id": "5923ebf5",
   "metadata": {},
   "source": [
    "## Subtopics in broad topics"
   ]
  },
  {
   "cell_type": "code",
   "execution_count": 3,
   "id": "6e7dde89",
   "metadata": {},
   "outputs": [],
   "source": [
    "from collections import OrderedDict\n",
    "\n",
    "url = 'https://scholar.google.com/citations?view_op=top_venues&hl=en&vq=eng'\n",
    "soup_source = requests.get(url).text\n",
    "soup = BeautifulSoup(soup_source,'lxml')\n",
    "subtopics = OrderedDict()\n",
    "for div in soup.find_all('div', class_='gs_md_ul'):\n",
    "    for topic in div.find_all('a'):\n",
    "        subtopics[topic.text] = {'link': 'https://scholar.google.com' + topic['href']}\n",
    "\n",
    "del subtopics['Subcategories']\n",
    "del subtopics['Engineering & Computer Science (general)']"
   ]
  },
  {
   "cell_type": "code",
   "execution_count": 4,
   "id": "f4d9c989",
   "metadata": {},
   "outputs": [
    {
     "data": {
      "text/plain": [
       "55"
      ]
     },
     "execution_count": 4,
     "metadata": {},
     "output_type": "execute_result"
    }
   ],
   "source": [
    "len(subtopics)"
   ]
  },
  {
   "cell_type": "code",
   "execution_count": 5,
   "id": "3b680df7",
   "metadata": {
    "scrolled": true
   },
   "outputs": [
    {
     "data": {
      "application/vnd.jupyter.widget-view+json": {
       "model_id": "bc5188b4d4f64470908f13200fcb4fae",
       "version_major": 2,
       "version_minor": 0
      },
      "text/plain": [
       "  0%|          | 0/55 [00:00<?, ?it/s]"
      ]
     },
     "metadata": {},
     "output_type": "display_data"
    },
    {
     "name": "stdout",
     "output_type": "stream",
     "text": [
      "Architecture\n",
      "Artificial Intelligence\n",
      "Automation & Control Theory\n",
      "Aviation & Aerospace Engineering\n",
      "Bioinformatics & Computational Biology\n",
      "Biomedical Technology\n",
      "Biotechnology\n",
      "Ceramic Engineering\n",
      "Civil Engineering\n",
      "Combustion & Propulsion\n",
      "Computational Linguistics\n",
      "Computer Graphics\n",
      "Computer Hardware Design\n",
      "Computer Networks & Wireless Communication\n",
      "Computer Security & Cryptography\n",
      "Computer Vision & Pattern Recognition\n",
      "Computing Systems\n",
      "Data Mining & Analysis\n",
      "Databases & Information Systems\n",
      "Educational Technology\n",
      "Environmental & Geological Engineering\n",
      "Evolutionary Computation\n",
      "Food Science & Technology\n",
      "Fuzzy Systems\n",
      "Game Theory and Decision Science\n",
      "Human Computer Interaction\n",
      "Library & Information Science\n",
      "Manufacturing & Machinery\n",
      "Materials Engineering\n",
      "Mechanical Engineering\n",
      "Medical Informatics\n",
      "Metallurgy\n",
      "Microelectronics & Electronic Packaging\n",
      "Mining & Mineral Resources\n",
      "Multimedia\n",
      "Nanotechnology\n",
      "Ocean & Marine Engineering\n",
      "Oil, Petroleum & Natural Gas\n",
      "Operations Research\n",
      "Plasma & Fusion\n",
      "Power Engineering\n",
      "Quality & Reliability\n",
      "Radar, Positioning & Navigation\n",
      "Remote Sensing\n",
      "Robotics\n",
      "Signal Processing\n",
      "Software Systems\n",
      "Structural Engineering\n",
      "Sustainable Energy\n",
      "Technology Law\n",
      "Textile Engineering\n",
      "Theoretical Computer Science\n",
      "Transportation\n",
      "Water Supply & Treatment\n",
      "Wood Science & Technology\n"
     ]
    }
   ],
   "source": [
    "for k, v in tqdm(subtopics.items()):\n",
    "    url = v['link']\n",
    "    soup_source = requests.get(url).text\n",
    "    soup = BeautifulSoup(soup_source,'lxml')\n",
    "    print(k)\n",
    "    v['publications'] = []\n",
    "    for row in soup.find('table', id='gsc_mvt_table').find_all('tr')[1:]:   \n",
    "        title = row.find_all('td')[1].text.strip()\n",
    "        v['publications'].append(title)\n",
    "        \n",
    "#         if '(' in title:\n",
    "#             acronym = title.split('(')[1].split(')')[0]\n",
    "#             print(f'\\t{title} {acronym}')\n",
    "#         else:\n",
    "#             # find acronym\n",
    "#             conference_portal_url = f'http://portal.core.edu.au/conf-ranks/?search={title.replace(\" \", \"%20\")}&by=all&source=CORE2021&sort=atitle&page=1'\n",
    "#             soup_source_conf = requests.get(conference_portal_url).text\n",
    "#             soup_conf = BeautifulSoup(soup_source_conf,'lxml')\n",
    "#             if len(soup_conf.find_all('table')) == 1:\n",
    "#                 acronym = soup_conf.find_all('tr')[1].find_all('td')[1].text.strip()\n",
    "#                 print(f'\\t{title} {acronym}')\n",
    "#                 v['publications'].append((title, acronym))"
   ]
  },
  {
   "cell_type": "code",
   "execution_count": 6,
   "id": "911d9220",
   "metadata": {},
   "outputs": [],
   "source": [
    "def publication_to_subtopic(publ):\n",
    "    if publ == 'UNK':\n",
    "        return 'Unknown'\n",
    "    for topic, v in subtopics.items():\n",
    "        if topic.lower() in publ.lower():\n",
    "            return topic\n",
    "        for p in v['publications']:\n",
    "            if p.lower() in publ.lower() or publ.lower() in p.lower():\n",
    "                return topic\n",
    "    if 'biology' or 'biometric' in publ.lower():\n",
    "        return 'Bioinformatics & Computational Biology'\n",
    "    if 'security' in publ.lower():\n",
    "        return 'Computer Security & Cryptography'\n",
    "    return 'Others'"
   ]
  },
  {
   "cell_type": "code",
   "execution_count": 7,
   "id": "c3034e2f",
   "metadata": {},
   "outputs": [
    {
     "name": "stdout",
     "output_type": "stream",
     "text": [
      "Artificial Intelligence\n"
     ]
    }
   ],
   "source": [
    "print(publication_to_subtopic('Artificial Intelligence asfj'))"
   ]
  },
  {
   "cell_type": "code",
   "execution_count": 8,
   "id": "195bbfb2",
   "metadata": {},
   "outputs": [],
   "source": [
    "# for i, row in df.iterrows():\n",
    "#     url = row['DBLP URL']\n",
    "#     if type(url) != str:    # not NaN\n",
    "#         continue\n",
    "        \n",
    "#     soup_source = requests.get(url).text\n",
    "#     soup = BeautifulSoup(soup_source,'lxml')\n",
    "#     for s in soup.find('div', id='refine-by venue')"
   ]
  },
  {
   "cell_type": "code",
   "execution_count": 54,
   "id": "daea9037",
   "metadata": {},
   "outputs": [
    {
     "data": {
      "text/plain": [
       "Full Name                                Lana Obraztsova\n",
       "Email                                    lana@ntu.edu.sg\n",
       "DR-NTU URL         https://dr.ntu.edu.sg/cris/rp/rp00219\n",
       "Website URL                                          NaN\n",
       "DBLP URL                                             NaN\n",
       "Citations (All)                                      NaN\n",
       "Name: 53, dtype: object"
      ]
     },
     "execution_count": 54,
     "metadata": {},
     "output_type": "execute_result"
    }
   ],
   "source": [
    "df.iloc[53]"
   ]
  },
  {
   "cell_type": "code",
   "execution_count": 32,
   "id": "b0d9c86d",
   "metadata": {},
   "outputs": [],
   "source": [
    "def publication_dict(authors, title, venue, venue_url, year, publ_type, cite_html):\n",
    "    ans = {}\n",
    "    ans['authors'] = authors\n",
    "    ans['title'] = title\n",
    "    ans['venue'] = venue\n",
    "    ans['venue_url'] = venue_url\n",
    "    ans['cite_html'] = cite_html.text.strip()\n",
    "    ans['year'] = int(year)\n",
    "    ans['type'] = publ_type\n",
    "    ans['subtopic'] = publication_to_subtopic(venue)\n",
    "    return ans\n",
    "        \n",
    "def get_citations(self):\n",
    "    url = f'https://scholar.google.com/scholar?hl=en&as_sdt=0%2C5&q={self[\"title\"]}'\n",
    "    soup_source = requests.get(url).text\n",
    "    soup = BeautifulSoup(soup_source, 'lxml')\n",
    "    cite_tag = soup.find('div', class_='gs_fl')\n",
    "\n",
    "    if cite_tag is None:\n",
    "        return 0\n",
    "    cite = cite_tag.text\n",
    "    if 'Cited by' in cite:\n",
    "        tmp = re.search(r'\\d+', cite) \n",
    "        if tmp is None :\n",
    "            return 0\n",
    "        else :\n",
    "            return int(tmp.group())\n",
    "    return 0\n",
    "    \n",
    "def venue_quality(self):\n",
    "    if '(' in self['venue'] and self['venue'].split('(')[1].split(')')[0] != '':\n",
    "        venue = self['venue'].split('(')[1].split(')')[0]\n",
    "        url = f'http://portal.core.edu.au/conf-ranks/?search={venue.replace(\" \", \"%20\")}&by=all&source=all&sort=atitle&page=1'\n",
    "    else:\n",
    "        url = f'http://portal.core.edu.au/conf-ranks/?search={self[\"venue\"].replace(\" \", \"%20\")}&by=all&source=all&sort=atitle&page=1'\n",
    "    soup_source = requests.get(url).text\n",
    "    soup = BeautifulSoup(soup_source, 'lxml')\n",
    "    \n",
    "    def refine_string(s):\n",
    "        s = re.sub(r\"[()\\\"#/@;:<>{}`+=~|.!?,]\", \"\", s)\n",
    "        return s\n",
    "    \n",
    "    if len(soup.find_all('table')) == 1:\n",
    "        for row in soup.find_all('tr')[1:]:\n",
    "            title = row.find_all('td')[0].text.strip()\n",
    "            acronym = row.find_all('td')[1].text.strip()\n",
    "            rank = row.find_all('td')[3].text.strip()\n",
    "            if venue == title:\n",
    "                return rank\n",
    "            elif venue.upper() == acronym:\n",
    "                return rank\n",
    "            elif acronym.upper() in [refine_string(v).upper() for v in venue.split()]:\n",
    "                return rank\n",
    "            elif venue.upper() in [refine_string(t).upper() for t in title.split()]:\n",
    "                return rank\n",
    "    return 'unranked'"
   ]
  },
  {
   "cell_type": "code",
   "execution_count": 9,
   "id": "d8462ed0",
   "metadata": {},
   "outputs": [],
   "source": [
    "# def refine_string(s):\n",
    "#         s = re.sub(r\"[()\\\"#/@;:<>{}`+=~|.!?,]\", \"\", s)\n",
    "#         return s\n",
    "    \n",
    "# text = 'Annual Meeting of the Association for Computational Linguistics (ACL)'\n",
    "# [refine_string(v).upper() for v in text.split()]"
   ]
  },
  {
   "cell_type": "code",
   "execution_count": 281,
   "id": "8ad1a1a5",
   "metadata": {},
   "outputs": [
    {
     "name": "stdout",
     "output_type": "stream",
     "text": [
      "0 book Wireless Networks\n",
      "1 article Advanced Engineering Informatics\n",
      "2 article IEEE Internet of Things Journal\n",
      "3 article IEEE Internet of Things Journal\n",
      "4 article Knowledge-Based Systems\n",
      "5 article Pattern Recognition\n",
      "6 article Proceedings of the VLDB Endowment\n",
      "7 article Proceedings of the VLDB Endowment\n",
      "8 article IEEE Transactions on Affective Computing\n",
      "9 article IEEE Transactions on Cloud Computing\n",
      "10 article IEEE Transactions on Emerging Topics in Computational Intelligence\n",
      "11 article IEEE Transactions on Industrial Informatics\n",
      "12 article IEEE Transactions on Image Processing\n",
      "13 article ACM Transactions on Intelligent Systems and Technology (TIST)\n",
      "14 article IEEE Transactions on Parallel and Distributed Systems (TPDS)\n",
      "15 article IEEE Transactions on Parallel and Distributed Systems (TPDS)\n",
      "16 article IEEE Transactions on Vehicular Technology\n",
      "17 inproceedings AAAI Conference on Artificial Intelligence (AAAI)\n",
      "18 inproceedings AAAI Conference on Artificial Intelligence (AAAI)\n",
      "19 inproceedings AAAI Conference on Artificial Intelligence (AAAI)\n",
      "20 inproceedings Annual Meeting of the Association for Computational Linguistics (ACL)\n",
      "21 inproceedings Annual Meeting of the Association for Computational Linguistics (ACL)\n",
      "22 inproceedings Workshop on NLP for Conversational AI (CovAI)\n",
      "23 inproceedings International Conference on Information and Knowledge Management (CIKM)\n",
      "24 inproceedings International Conference on Database Systems for Advanced Applications (DASFAA)\n",
      "25 inproceedings European Conference on Computer Vision (ECCV)\n",
      "26 inproceedings ACM Conference on Fairness, Accountability and Transparency (FAccT)\n",
      "27 inproceedings International Conference on Human-Computer Interaction (HCI International)\n",
      "28 inproceedings IEEE International Conference on Acoustics, Speech, and Signal Processing (ICASSP)\n",
      "29 inproceedings IEEE International Conference on Communications (ICC)\n",
      "30 inproceedings IEEE International Conference on Communications (ICC)\n",
      "31 inproceedings IEEE International Conference on Communications (ICC)\n",
      "32 inproceedings IEEE International Conference on Communications (ICC)\n",
      "33 inproceedings IEEE International Conference on Communications (ICC)\n",
      "34 inproceedings International Conference on Learning Representations (ICLR)\n",
      "35 inproceedings International Joint Conference on Artificial Intelligence (IJCAI)\n",
      "36 inproceedings International Joint Conference on Artificial Intelligence (IJCAI)\n",
      "37 inproceedings International Joint Conference on Artificial Intelligence (IJCAI)\n",
      "38 inproceedings IEEE International Joint Conference on Neural Network (IJCNN)\n",
      "39 inproceedings IEEE International Joint Conference on Neural Network (IJCNN)\n",
      "40 inproceedings IEEE International Joint Conference on Neural Network (IJCNN)\n",
      "41 inproceedings ACM SIGKDD Conference on Knowledge Discovery and Data Mining (KDD)\n",
      "42 inproceedings ACM International Conference on Multimedia (MM)\n",
      "43 inproceedings ACM International Conference on Multimedia (MM)\n",
      "44 inproceedings Web Search and Data Mining (WSDM)\n",
      "45 informal Computing Research Repository (CoRR)\n",
      "46 informal Computing Research Repository (CoRR)\n",
      "47 informal Computing Research Repository (CoRR)\n",
      "48 informal Computing Research Repository (CoRR)\n",
      "49 informal Computing Research Repository (CoRR)\n",
      "50 informal Computing Research Repository (CoRR)\n",
      "51 informal Computing Research Repository (CoRR)\n",
      "52 informal Computing Research Repository (CoRR)\n",
      "53 informal Computing Research Repository (CoRR)\n",
      "54 informal Computing Research Repository (CoRR)\n",
      "55 informal Computing Research Repository (CoRR)\n",
      "56 informal Computing Research Repository (CoRR)\n",
      "57 informal Computing Research Repository (CoRR)\n",
      "58 informal Computing Research Repository (CoRR)\n",
      "59 informal Computing Research Repository (CoRR)\n",
      "60 informal Computing Research Repository (CoRR)\n",
      "61 informal Computing Research Repository (CoRR)\n",
      "62 informal Computing Research Repository (CoRR)\n",
      "63 informal Computing Research Repository (CoRR)\n",
      "64 informal Computing Research Repository (CoRR)\n",
      "65 informal Computing Research Repository (CoRR)\n",
      "66 informal Computing Research Repository (CoRR)\n",
      "67 informal Computing Research Repository (CoRR)\n",
      "68 informal Computing Research Repository (CoRR)\n",
      "69 informal Computing Research Repository (CoRR)\n",
      "70 informal Computing Research Repository (CoRR)\n",
      "71 article Artificial Intelligence\n",
      "72 article AI Magazine\n",
      "73 article AI Magazine\n",
      "74 article Computer Networks\n",
      "75 article IEEE Communications Surveys and Tutorials\n",
      "76 article International Journal of Human-Computer Interaction\n",
      "77 article International Journal of Human-Computer Studies\n",
      "78 article IEEE Internet of Things Journal\n",
      "79 article IEEE Internet of Things Journal\n",
      "80 article IEEE Journal of Selected Areas in Communications\n",
      "81 article Knowledge-Based Systems\n",
      "82 article IEEE Network\n",
      "83 article IEEE Transactions on Cognitive Communications and Networking\n",
      "84 article IEEE Transactions on Intelligent Transportation Systems\n",
      "85 article IEEE Transactions on Intelligent Transportation Systems\n",
      "86 article IEEE Transactions on Vehicular Technology\n",
      "87 inproceedings AAAI Conference on Artificial Intelligence (AAAI)\n",
      "88 inproceedings AAAI Conference on Artificial Intelligence (AAAI)\n",
      "89 inproceedings AAAI Conference on Artificial Intelligence (AAAI)\n",
      "90 inproceedings AAAI Conference on Artificial Intelligence (AAAI)\n",
      "91 inproceedings AAAI Conference on Artificial Intelligence (AAAI)\n",
      "92 inproceedings AAAI Conference on Artificial Intelligence (AAAI)\n",
      "93 inproceedings AAAI Conference on Artificial Intelligence (AAAI)\n",
      "94 inproceedings AAAI Conference on Artificial Intelligence (AAAI)\n",
      "95 inproceedings AAAI Conference on Artificial Intelligence (AAAI)\n",
      "96 inproceedings Annual Meeting of the Association for Computational Linguistics (ACL)\n",
      "97 inproceedings IEEE International Conference on Bioinformatics and Biomedicine (BIBM)\n",
      "98 inproceedings IEEE International Conference on Bioinformatics and Biomedicine (BIBM)\n",
      "99 inproceedings International Conference on Information and Knowledge Management (CIKM)\n",
      "100 inproceedings International Conference on Information and Knowledge Management (CIKM)\n",
      "101 inproceedings Computer Vision and Pattern Recognition (CVPR)\n",
      "102 inproceedings Computer Vision and Pattern Recognition (CVPR)\n",
      "103 inproceedings Computer Vision and Pattern Recognition (CVPR)\n",
      "104 inproceedings International Conference on Human-Computer Interaction (HCI International)\n",
      "105 inproceedings International Conference on Human-Computer Interaction (HCI International)\n",
      "106 inproceedings IEEE International Conference on Acoustics, Speech, and Signal Processing (ICASSP)\n",
      "107 inproceedings International Conference on Crowd Science and Engineering (ICCSE)\n",
      "108 inproceedings International Conference on Crowd Science and Engineering (ICCSE)\n",
      "109 inproceedings IEEE International Conference on Computer Vision (ICCV)\n",
      "110 inproceedings IEEE International Conference on Data Mining (ICDM)\n",
      "111 inproceedings IEEE International Conference on Multimedia and Expo (ICME)\n",
      "112 inproceedings International Joint Conference on Artificial Intelligence (IJCAI)\n",
      "113 inproceedings ACM SIGKDD Conference on Knowledge Discovery and Data Mining (KDD)\n",
      "114 inproceedings ACM SIGKDD Conference on Knowledge Discovery and Data Mining (KDD)\n",
      "115 inproceedings ACM International Conference on Multimedia (MM)\n",
      "116 inproceedings ACM International Conference on Multimedia (MM)\n",
      "117 inproceedings ACM International Conference on Multimedia (MM)\n",
      "118 inproceedings ACM International Conference on Multimedia (MM)\n",
      "119 inproceedings North American Chapter of the Association for Computational Linguistics (NAACL)\n",
      "120 inproceedings European Conference on Principles of Data Mining and Knowledge Discovery (PKDD)\n",
      "121 inproceedings International Conference on Trust, Security and Privacy in Computing and Communications (TrustCom)\n",
      "122 editor UNK\n",
      "123 informal Computing Research Repository (CoRR)\n",
      "124 informal Computing Research Repository (CoRR)\n",
      "125 informal Computing Research Repository (CoRR)\n",
      "126 informal Computing Research Repository (CoRR)\n",
      "127 informal Computing Research Repository (CoRR)\n",
      "128 informal Computing Research Repository (CoRR)\n",
      "129 informal Computing Research Repository (CoRR)\n",
      "130 informal Computing Research Repository (CoRR)\n",
      "131 informal Computing Research Repository (CoRR)\n",
      "132 informal Computing Research Repository (CoRR)\n",
      "133 informal Computing Research Repository (CoRR)\n",
      "134 informal Computing Research Repository (CoRR)\n",
      "135 informal Computing Research Repository (CoRR)\n",
      "136 informal Computing Research Repository (CoRR)\n",
      "137 informal Computing Research Repository (CoRR)\n",
      "138 informal Computing Research Repository (CoRR)\n",
      "139 informal Computing Research Repository (CoRR)\n",
      "140 informal Computing Research Repository (CoRR)\n",
      "141 informal Computing Research Repository (CoRR)\n",
      "142 informal Computing Research Repository (CoRR)\n",
      "143 informal Computing Research Repository (CoRR)\n",
      "144 informal Computing Research Repository (CoRR)\n",
      "145 informal Computing Research Repository (CoRR)\n",
      "146 informal Computing Research Repository (CoRR)\n",
      "147 informal Computing Research Repository (CoRR)\n",
      "148 informal Computing Research Repository (CoRR)\n",
      "149 informal Computing Research Repository (CoRR)\n",
      "150 informal Computing Research Repository (CoRR)\n",
      "151 informal Computing Research Repository (CoRR)\n",
      "152 article IEEE Access\n",
      "153 article AI Magazine\n",
      "154 article IEEE Communications Surveys and Tutorials\n",
      "155 article Neurocomputing\n",
      "156 article Neurocomputing\n",
      "157 article IEEE Internet of Things Journal\n",
      "158 article Neural Computing and Applications\n",
      "159 article IEEE Transactions on Cybernetics\n",
      "160 inproceedings AAAI Conference on Artificial Intelligence (AAAI)\n",
      "161 inproceedings AAAI Conference on Artificial Intelligence (AAAI)\n",
      "162 inproceedings AAAI Conference on Artificial Intelligence (AAAI)\n",
      "163 inproceedings AAAI Conference on Artificial Intelligence (AAAI)\n",
      "164 inproceedings AAAI Conference on Artificial Intelligence (AAAI)\n",
      "165 inproceedings International Joint Conference on Autonomous Agents & Multiagent Systems (AAMAS)\n",
      "166 inproceedings International Conference on Blockchain and Trustworthy Systems (BlockSys)\n",
      "167 inproceedings Computer Vision and Pattern Recognition (CVPR)\n",
      "168 inproceedings European Conference on Computer Vision (ECCV)\n",
      "169 inproceedings Conference on Empirical Methods in Natural Language Processing (EMNLP)\n",
      "170 inproceedings Conference on Empirical Methods in Natural Language Processing (EMNLP)\n",
      "171 inproceedings Global Communications Conference (GLOBECOM)\n",
      "172 inproceedings Global Communications Conference (GLOBECOM)\n",
      "173 inproceedings International Conference on Control, Automation, Robotics and Vision (ICARCV)\n",
      "174 inproceedings International Joint Conference on Artificial Intelligence (IJCAI)\n",
      "175 inproceedings International Joint Conference on Artificial Intelligence (IJCAI)\n",
      "176 inproceedings International Joint Conference on Artificial Intelligence (IJCAI)\n",
      "177 inproceedings International Joint Conference on Artificial Intelligence (IJCAI)\n",
      "178 inproceedings IEEE International Joint Conference on Neural Network (IJCNN)\n",
      "179 inproceedings ACM SIGKDD Conference on Knowledge Discovery and Data Mining (KDD)\n",
      "180 inproceedings International Conference on Principles of Knowledge Representation and Reasoning (KR)\n",
      "181 inproceedings ACM International Conference on Multimedia (MM)\n",
      "182 inproceedings ACM/IEEE International Conference on Mobile Computing and Networking (MobiCom)\n",
      "183 inproceedings International Conference on Mobility, Sensing and Networking (MSN)\n",
      "184 inproceedings Conference on Uncertainty in Artificial Intelligence (UAI)\n",
      "185 inproceedings IEEE Vehicular Technology Conference (VTC)\n",
      "186 inproceedings IEEE Wireless Communications and Networking Conference (WCNC)\n",
      "187 informal Computing Research Repository (CoRR)\n",
      "188 informal Computing Research Repository (CoRR)\n",
      "189 informal Computing Research Repository (CoRR)\n",
      "190 informal Computing Research Repository (CoRR)\n",
      "191 informal Computing Research Repository (CoRR)\n",
      "192 informal Computing Research Repository (CoRR)\n",
      "193 informal Computing Research Repository (CoRR)\n",
      "194 informal Computing Research Repository (CoRR)\n",
      "195 informal Computing Research Repository (CoRR)\n",
      "196 informal Computing Research Repository (CoRR)\n",
      "197 informal Computing Research Repository (CoRR)\n",
      "198 informal Computing Research Repository (CoRR)\n",
      "199 informal Computing Research Repository (CoRR)\n",
      "200 informal Computing Research Repository (CoRR)\n",
      "201 informal Computing Research Repository (CoRR)\n",
      "202 informal Computing Research Repository (CoRR)\n",
      "203 informal Computing Research Repository (CoRR)\n",
      "204 informal Computing Research Repository (CoRR)\n",
      "205 informal Computing Research Repository (CoRR)\n",
      "206 informal Computing Research Repository (CoRR)\n",
      "207 informal Computing Research Repository (CoRR)\n"
     ]
    }
   ],
   "source": [
    "for i, pub in enumerate(publications):\n",
    "    print(i, pub.type, pub.venue)"
   ]
  },
  {
   "cell_type": "code",
   "execution_count": 24,
   "id": "a841276a",
   "metadata": {
    "scrolled": true
   },
   "outputs": [],
   "source": [
    "def get_publications(url):\n",
    "    soup_source = requests.get(url).text\n",
    "    soup = BeautifulSoup(soup_source,'lxml')\n",
    "\n",
    "    year = None\n",
    "    publications = []\n",
    "    for ul in tqdm(soup.find('div', id='publ-section').find_all('ul', class_='publ-list'), desc='Years'):\n",
    "        for li in ul.find_all('li'):\n",
    "            if 'class' in li.attrs and 'year' in li.attrs['class']:\n",
    "                year = int(li.text.strip())\n",
    "                #print('\\n', year)\n",
    "\n",
    "            # loop for every publication\n",
    "            elif 'class' in li.attrs and 'entry' in li.attrs['class']:\n",
    "                # find type\n",
    "                publ_type = li.attrs['class'][1]\n",
    "\n",
    "                cite = li.find('cite', class_='data tts-content')\n",
    "                # find title\n",
    "                title = cite.find('span', class_='title').text.strip()\n",
    "                # find authors\n",
    "                authors = []\n",
    "                for author in cite.find_all('span', itemprop='author'):\n",
    "                    authors.append(author.text.strip())\n",
    "\n",
    "                # find venue\n",
    "                if cite.find('span', itemprop='isPartOf') != None:\n",
    "                    #venue = cite.find('span', itemprop='isPartOf').find('span', itemprop='name').text.strip()\n",
    "                    for child in cite.children:\n",
    "                        if child.name == 'a':\n",
    "                            venue_url = child['href']\n",
    "                            venue_prefix = '/'.join(venue_url.split('/')[:-1]) + '/index.html'\n",
    "                            soup_source_venue = requests.get(venue_prefix).text\n",
    "                            soup_venue = BeautifulSoup(soup_source_venue,'lxml')\n",
    "                            venue_name = soup_venue.find('header', id='headline').find('h1').text.strip()\n",
    "                            #print(publ_type, child['href'], venue_name)\n",
    "                else:\n",
    "                    venue_url, venue_name = None, 'UNK'\n",
    "                publications.append(publication_dict(authors, title, venue_name, venue_url, year, publ_type, cite))\n",
    "    return publications"
   ]
  },
  {
   "cell_type": "code",
   "execution_count": 25,
   "id": "53bfcf01",
   "metadata": {
    "scrolled": true
   },
   "outputs": [
    {
     "data": {
      "application/vnd.jupyter.widget-view+json": {
       "model_id": "8db4865a775c4e08b2af7bb7183fc7eb",
       "version_major": 2,
       "version_minor": 0
      },
      "text/plain": [
       "Faculty Members:   0%|          | 0/82 [00:00<?, ?it/s]"
      ]
     },
     "metadata": {},
     "output_type": "display_data"
    },
    {
     "data": {
      "application/vnd.jupyter.widget-view+json": {
       "model_id": "2b7be3e7153f4cbcb3624136c1673e81",
       "version_major": 2,
       "version_minor": 0
      },
      "text/plain": [
       "Years:   0%|          | 0/3 [00:00<?, ?it/s]"
      ]
     },
     "metadata": {},
     "output_type": "display_data"
    },
    {
     "data": {
      "application/vnd.jupyter.widget-view+json": {
       "model_id": "4de03b616ca843e39c4f3347568cec5e",
       "version_major": 2,
       "version_minor": 0
      },
      "text/plain": [
       "Years:   0%|          | 0/3 [00:00<?, ?it/s]"
      ]
     },
     "metadata": {},
     "output_type": "display_data"
    },
    {
     "data": {
      "application/vnd.jupyter.widget-view+json": {
       "model_id": "0aa362510a324f8ab3c4f0c4082a5551",
       "version_major": 2,
       "version_minor": 0
      },
      "text/plain": [
       "Years:   0%|          | 0/3 [00:00<?, ?it/s]"
      ]
     },
     "metadata": {},
     "output_type": "display_data"
    },
    {
     "data": {
      "application/vnd.jupyter.widget-view+json": {
       "model_id": "01bf369a304045758cf01a354117d6a6",
       "version_major": 2,
       "version_minor": 0
      },
      "text/plain": [
       "Years:   0%|          | 0/3 [00:00<?, ?it/s]"
      ]
     },
     "metadata": {},
     "output_type": "display_data"
    },
    {
     "data": {
      "application/vnd.jupyter.widget-view+json": {
       "model_id": "972c798b2b0e49d9bf19db89f41bab9c",
       "version_major": 2,
       "version_minor": 0
      },
      "text/plain": [
       "Years:   0%|          | 0/3 [00:00<?, ?it/s]"
      ]
     },
     "metadata": {},
     "output_type": "display_data"
    },
    {
     "data": {
      "application/vnd.jupyter.widget-view+json": {
       "model_id": "7e23b6f1be6446909cb91fae7f25d0ba",
       "version_major": 2,
       "version_minor": 0
      },
      "text/plain": [
       "Years:   0%|          | 0/2 [00:00<?, ?it/s]"
      ]
     },
     "metadata": {},
     "output_type": "display_data"
    },
    {
     "data": {
      "application/vnd.jupyter.widget-view+json": {
       "model_id": "83c4d9d5b6e14401ad452709cb22912c",
       "version_major": 2,
       "version_minor": 0
      },
      "text/plain": [
       "Years:   0%|          | 0/4 [00:00<?, ?it/s]"
      ]
     },
     "metadata": {},
     "output_type": "display_data"
    },
    {
     "data": {
      "application/vnd.jupyter.widget-view+json": {
       "model_id": "118d1193c0ba484eb439d4d887f3029c",
       "version_major": 2,
       "version_minor": 0
      },
      "text/plain": [
       "Years:   0%|          | 0/4 [00:00<?, ?it/s]"
      ]
     },
     "metadata": {},
     "output_type": "display_data"
    },
    {
     "data": {
      "application/vnd.jupyter.widget-view+json": {
       "model_id": "20b9bf8b9f1d4400bb36fcd1e6940a9d",
       "version_major": 2,
       "version_minor": 0
      },
      "text/plain": [
       "Years:   0%|          | 0/5 [00:00<?, ?it/s]"
      ]
     },
     "metadata": {},
     "output_type": "display_data"
    },
    {
     "data": {
      "application/vnd.jupyter.widget-view+json": {
       "model_id": "2a72ce754f21476494c3a79247085d37",
       "version_major": 2,
       "version_minor": 0
      },
      "text/plain": [
       "Years:   0%|          | 0/4 [00:00<?, ?it/s]"
      ]
     },
     "metadata": {},
     "output_type": "display_data"
    },
    {
     "data": {
      "application/vnd.jupyter.widget-view+json": {
       "model_id": "a617374c1f494d0f96dfd0811de8b425",
       "version_major": 2,
       "version_minor": 0
      },
      "text/plain": [
       "Years:   0%|          | 0/4 [00:00<?, ?it/s]"
      ]
     },
     "metadata": {},
     "output_type": "display_data"
    },
    {
     "data": {
      "application/vnd.jupyter.widget-view+json": {
       "model_id": "10597783f4a4441b9d7c4d304c39e859",
       "version_major": 2,
       "version_minor": 0
      },
      "text/plain": [
       "Years:   0%|          | 0/3 [00:00<?, ?it/s]"
      ]
     },
     "metadata": {},
     "output_type": "display_data"
    },
    {
     "data": {
      "application/vnd.jupyter.widget-view+json": {
       "model_id": "25db11982e81458f9cef536840ba5d17",
       "version_major": 2,
       "version_minor": 0
      },
      "text/plain": [
       "Years:   0%|          | 0/4 [00:00<?, ?it/s]"
      ]
     },
     "metadata": {},
     "output_type": "display_data"
    },
    {
     "data": {
      "application/vnd.jupyter.widget-view+json": {
       "model_id": "0e517484dfb54ca4b3be32b525b80d15",
       "version_major": 2,
       "version_minor": 0
      },
      "text/plain": [
       "Years:   0%|          | 0/1 [00:00<?, ?it/s]"
      ]
     },
     "metadata": {},
     "output_type": "display_data"
    },
    {
     "data": {
      "application/vnd.jupyter.widget-view+json": {
       "model_id": "9c604576fd714a939b2cb396a99d7c87",
       "version_major": 2,
       "version_minor": 0
      },
      "text/plain": [
       "Years:   0%|          | 0/4 [00:00<?, ?it/s]"
      ]
     },
     "metadata": {},
     "output_type": "display_data"
    },
    {
     "data": {
      "application/vnd.jupyter.widget-view+json": {
       "model_id": "4af84f4fc4e349a79d8c9a9285157a2a",
       "version_major": 2,
       "version_minor": 0
      },
      "text/plain": [
       "Years:   0%|          | 0/4 [00:00<?, ?it/s]"
      ]
     },
     "metadata": {},
     "output_type": "display_data"
    },
    {
     "data": {
      "application/vnd.jupyter.widget-view+json": {
       "model_id": "db1af1f777b74ccfa75121e97a481f0a",
       "version_major": 2,
       "version_minor": 0
      },
      "text/plain": [
       "Years:   0%|          | 0/4 [00:00<?, ?it/s]"
      ]
     },
     "metadata": {},
     "output_type": "display_data"
    },
    {
     "data": {
      "application/vnd.jupyter.widget-view+json": {
       "model_id": "d168128bcd6f4305a7a8843577045f14",
       "version_major": 2,
       "version_minor": 0
      },
      "text/plain": [
       "Years:   0%|          | 0/4 [00:00<?, ?it/s]"
      ]
     },
     "metadata": {},
     "output_type": "display_data"
    },
    {
     "data": {
      "application/vnd.jupyter.widget-view+json": {
       "model_id": "416dfecf3dce4a02a49ea7404876b1c1",
       "version_major": 2,
       "version_minor": 0
      },
      "text/plain": [
       "Years:   0%|          | 0/4 [00:00<?, ?it/s]"
      ]
     },
     "metadata": {},
     "output_type": "display_data"
    },
    {
     "data": {
      "application/vnd.jupyter.widget-view+json": {
       "model_id": "2ae5e3db8b2844e29b533d4515875a9b",
       "version_major": 2,
       "version_minor": 0
      },
      "text/plain": [
       "Years:   0%|          | 0/4 [00:00<?, ?it/s]"
      ]
     },
     "metadata": {},
     "output_type": "display_data"
    },
    {
     "data": {
      "application/vnd.jupyter.widget-view+json": {
       "model_id": "2a2f1186ec554f1f83cc169860871298",
       "version_major": 2,
       "version_minor": 0
      },
      "text/plain": [
       "Years:   0%|          | 0/4 [00:00<?, ?it/s]"
      ]
     },
     "metadata": {},
     "output_type": "display_data"
    },
    {
     "data": {
      "application/vnd.jupyter.widget-view+json": {
       "model_id": "68fe6e4d364a44a6ac75234a341b96b2",
       "version_major": 2,
       "version_minor": 0
      },
      "text/plain": [
       "Years:   0%|          | 0/4 [00:00<?, ?it/s]"
      ]
     },
     "metadata": {},
     "output_type": "display_data"
    },
    {
     "data": {
      "application/vnd.jupyter.widget-view+json": {
       "model_id": "c3c677f94d54499ea4a76e01fcf3ef56",
       "version_major": 2,
       "version_minor": 0
      },
      "text/plain": [
       "Years:   0%|          | 0/4 [00:00<?, ?it/s]"
      ]
     },
     "metadata": {},
     "output_type": "display_data"
    },
    {
     "data": {
      "application/vnd.jupyter.widget-view+json": {
       "model_id": "5f7bca55698e4be197765b62f14eb2fc",
       "version_major": 2,
       "version_minor": 0
      },
      "text/plain": [
       "Years:   0%|          | 0/3 [00:00<?, ?it/s]"
      ]
     },
     "metadata": {},
     "output_type": "display_data"
    },
    {
     "data": {
      "application/vnd.jupyter.widget-view+json": {
       "model_id": "29fda0e7ab834ec49622f9a0d6eb5630",
       "version_major": 2,
       "version_minor": 0
      },
      "text/plain": [
       "Years:   0%|          | 0/4 [00:00<?, ?it/s]"
      ]
     },
     "metadata": {},
     "output_type": "display_data"
    },
    {
     "data": {
      "application/vnd.jupyter.widget-view+json": {
       "model_id": "24554972f3ae4bd39c61977f6aef6164",
       "version_major": 2,
       "version_minor": 0
      },
      "text/plain": [
       "Years:   0%|          | 0/4 [00:00<?, ?it/s]"
      ]
     },
     "metadata": {},
     "output_type": "display_data"
    },
    {
     "data": {
      "application/vnd.jupyter.widget-view+json": {
       "model_id": "cb433d28eada4aad808a9a2814c4600f",
       "version_major": 2,
       "version_minor": 0
      },
      "text/plain": [
       "Years:   0%|          | 0/3 [00:00<?, ?it/s]"
      ]
     },
     "metadata": {},
     "output_type": "display_data"
    },
    {
     "data": {
      "application/vnd.jupyter.widget-view+json": {
       "model_id": "323dea93f182417f86831e91774f98db",
       "version_major": 2,
       "version_minor": 0
      },
      "text/plain": [
       "Years:   0%|          | 0/4 [00:00<?, ?it/s]"
      ]
     },
     "metadata": {},
     "output_type": "display_data"
    },
    {
     "data": {
      "application/vnd.jupyter.widget-view+json": {
       "model_id": "c08de89509a547268e15873692453e28",
       "version_major": 2,
       "version_minor": 0
      },
      "text/plain": [
       "Years:   0%|          | 0/4 [00:00<?, ?it/s]"
      ]
     },
     "metadata": {},
     "output_type": "display_data"
    },
    {
     "data": {
      "application/vnd.jupyter.widget-view+json": {
       "model_id": "5b4c41212a604ca4a7b6c29a77b44cd4",
       "version_major": 2,
       "version_minor": 0
      },
      "text/plain": [
       "Years:   0%|          | 0/4 [00:00<?, ?it/s]"
      ]
     },
     "metadata": {},
     "output_type": "display_data"
    },
    {
     "data": {
      "application/vnd.jupyter.widget-view+json": {
       "model_id": "d35027a10c1b4117bcdeca2ceb1f184b",
       "version_major": 2,
       "version_minor": 0
      },
      "text/plain": [
       "Years:   0%|          | 0/4 [00:00<?, ?it/s]"
      ]
     },
     "metadata": {},
     "output_type": "display_data"
    },
    {
     "data": {
      "application/vnd.jupyter.widget-view+json": {
       "model_id": "46233cf7031944da947c9ef15f20743d",
       "version_major": 2,
       "version_minor": 0
      },
      "text/plain": [
       "Years:   0%|          | 0/4 [00:00<?, ?it/s]"
      ]
     },
     "metadata": {},
     "output_type": "display_data"
    },
    {
     "data": {
      "application/vnd.jupyter.widget-view+json": {
       "model_id": "b541b91b9f1c4713b819eedede58f7b2",
       "version_major": 2,
       "version_minor": 0
      },
      "text/plain": [
       "Years:   0%|          | 0/3 [00:00<?, ?it/s]"
      ]
     },
     "metadata": {},
     "output_type": "display_data"
    },
    {
     "data": {
      "application/vnd.jupyter.widget-view+json": {
       "model_id": "0d3a82e1b08641eb9fd39140ec148bf4",
       "version_major": 2,
       "version_minor": 0
      },
      "text/plain": [
       "Years:   0%|          | 0/4 [00:00<?, ?it/s]"
      ]
     },
     "metadata": {},
     "output_type": "display_data"
    },
    {
     "data": {
      "application/vnd.jupyter.widget-view+json": {
       "model_id": "745fa281604042008f81f858a564fe0c",
       "version_major": 2,
       "version_minor": 0
      },
      "text/plain": [
       "Years:   0%|          | 0/3 [00:00<?, ?it/s]"
      ]
     },
     "metadata": {},
     "output_type": "display_data"
    },
    {
     "data": {
      "application/vnd.jupyter.widget-view+json": {
       "model_id": "5976d87801c64a15986f0c6ceb096307",
       "version_major": 2,
       "version_minor": 0
      },
      "text/plain": [
       "Years:   0%|          | 0/3 [00:00<?, ?it/s]"
      ]
     },
     "metadata": {},
     "output_type": "display_data"
    },
    {
     "data": {
      "application/vnd.jupyter.widget-view+json": {
       "model_id": "7a04eb4f3d1d4c87bb58795fb11f2575",
       "version_major": 2,
       "version_minor": 0
      },
      "text/plain": [
       "Years:   0%|          | 0/3 [00:00<?, ?it/s]"
      ]
     },
     "metadata": {},
     "output_type": "display_data"
    },
    {
     "data": {
      "application/vnd.jupyter.widget-view+json": {
       "model_id": "64a9e7a750fc4648a187cb46a1a2e9e1",
       "version_major": 2,
       "version_minor": 0
      },
      "text/plain": [
       "Years:   0%|          | 0/2 [00:00<?, ?it/s]"
      ]
     },
     "metadata": {},
     "output_type": "display_data"
    },
    {
     "data": {
      "application/vnd.jupyter.widget-view+json": {
       "model_id": "036f8c45aebd42b1b9856bb183a4b941",
       "version_major": 2,
       "version_minor": 0
      },
      "text/plain": [
       "Years:   0%|          | 0/3 [00:00<?, ?it/s]"
      ]
     },
     "metadata": {},
     "output_type": "display_data"
    },
    {
     "data": {
      "application/vnd.jupyter.widget-view+json": {
       "model_id": "5520b2f73dfa4d3e88fc22afa4a9a1c4",
       "version_major": 2,
       "version_minor": 0
      },
      "text/plain": [
       "Years:   0%|          | 0/3 [00:00<?, ?it/s]"
      ]
     },
     "metadata": {},
     "output_type": "display_data"
    },
    {
     "data": {
      "application/vnd.jupyter.widget-view+json": {
       "model_id": "2483f7d03abc4241b909a2f5075da66f",
       "version_major": 2,
       "version_minor": 0
      },
      "text/plain": [
       "Years:   0%|          | 0/3 [00:00<?, ?it/s]"
      ]
     },
     "metadata": {},
     "output_type": "display_data"
    },
    {
     "data": {
      "application/vnd.jupyter.widget-view+json": {
       "model_id": "01fd3942c198477aa3a64a823bececca",
       "version_major": 2,
       "version_minor": 0
      },
      "text/plain": [
       "Years:   0%|          | 0/4 [00:00<?, ?it/s]"
      ]
     },
     "metadata": {},
     "output_type": "display_data"
    },
    {
     "data": {
      "application/vnd.jupyter.widget-view+json": {
       "model_id": "47beb43b754940c79f003eb7c2619a7e",
       "version_major": 2,
       "version_minor": 0
      },
      "text/plain": [
       "Years:   0%|          | 0/3 [00:00<?, ?it/s]"
      ]
     },
     "metadata": {},
     "output_type": "display_data"
    },
    {
     "data": {
      "application/vnd.jupyter.widget-view+json": {
       "model_id": "3d95e87e86df4706a0c6796ef4427861",
       "version_major": 2,
       "version_minor": 0
      },
      "text/plain": [
       "Years:   0%|          | 0/4 [00:00<?, ?it/s]"
      ]
     },
     "metadata": {},
     "output_type": "display_data"
    },
    {
     "data": {
      "application/vnd.jupyter.widget-view+json": {
       "model_id": "1515c21b1d3c4178a4bead4bf4a8ec63",
       "version_major": 2,
       "version_minor": 0
      },
      "text/plain": [
       "Years:   0%|          | 0/3 [00:00<?, ?it/s]"
      ]
     },
     "metadata": {},
     "output_type": "display_data"
    },
    {
     "data": {
      "application/vnd.jupyter.widget-view+json": {
       "model_id": "da0f2bf4de5f47c1986eeebde6d879c4",
       "version_major": 2,
       "version_minor": 0
      },
      "text/plain": [
       "Years:   0%|          | 0/2 [00:00<?, ?it/s]"
      ]
     },
     "metadata": {},
     "output_type": "display_data"
    },
    {
     "data": {
      "application/vnd.jupyter.widget-view+json": {
       "model_id": "46042e3bda044033b6da52142864a9c2",
       "version_major": 2,
       "version_minor": 0
      },
      "text/plain": [
       "Years:   0%|          | 0/3 [00:00<?, ?it/s]"
      ]
     },
     "metadata": {},
     "output_type": "display_data"
    },
    {
     "data": {
      "application/vnd.jupyter.widget-view+json": {
       "model_id": "d11c4289f54e49128f2e0085fb5519e4",
       "version_major": 2,
       "version_minor": 0
      },
      "text/plain": [
       "Years:   0%|          | 0/3 [00:00<?, ?it/s]"
      ]
     },
     "metadata": {},
     "output_type": "display_data"
    },
    {
     "data": {
      "application/vnd.jupyter.widget-view+json": {
       "model_id": "99a958f78aea437eaf034528618765f5",
       "version_major": 2,
       "version_minor": 0
      },
      "text/plain": [
       "Years:   0%|          | 0/2 [00:00<?, ?it/s]"
      ]
     },
     "metadata": {},
     "output_type": "display_data"
    },
    {
     "data": {
      "application/vnd.jupyter.widget-view+json": {
       "model_id": "236d3baa7f97465bbe7637d16be5c54a",
       "version_major": 2,
       "version_minor": 0
      },
      "text/plain": [
       "Years:   0%|          | 0/3 [00:00<?, ?it/s]"
      ]
     },
     "metadata": {},
     "output_type": "display_data"
    },
    {
     "data": {
      "application/vnd.jupyter.widget-view+json": {
       "model_id": "e11099ae120a4a72be5f9089467c5b30",
       "version_major": 2,
       "version_minor": 0
      },
      "text/plain": [
       "Years:   0%|          | 0/3 [00:00<?, ?it/s]"
      ]
     },
     "metadata": {},
     "output_type": "display_data"
    },
    {
     "data": {
      "application/vnd.jupyter.widget-view+json": {
       "model_id": "c527e50838f54c5c93ebf9f8acbd2bae",
       "version_major": 2,
       "version_minor": 0
      },
      "text/plain": [
       "Years:   0%|          | 0/1 [00:00<?, ?it/s]"
      ]
     },
     "metadata": {},
     "output_type": "display_data"
    },
    {
     "data": {
      "application/vnd.jupyter.widget-view+json": {
       "model_id": "9da93a7200274aaf93105382b91a0030",
       "version_major": 2,
       "version_minor": 0
      },
      "text/plain": [
       "Years:   0%|          | 0/4 [00:00<?, ?it/s]"
      ]
     },
     "metadata": {},
     "output_type": "display_data"
    },
    {
     "data": {
      "application/vnd.jupyter.widget-view+json": {
       "model_id": "b9c8f17a575e421abbc51d6a0f15d326",
       "version_major": 2,
       "version_minor": 0
      },
      "text/plain": [
       "Years:   0%|          | 0/3 [00:00<?, ?it/s]"
      ]
     },
     "metadata": {},
     "output_type": "display_data"
    },
    {
     "data": {
      "application/vnd.jupyter.widget-view+json": {
       "model_id": "801ade8a65b94d7b9b8d30392fcc2120",
       "version_major": 2,
       "version_minor": 0
      },
      "text/plain": [
       "Years:   0%|          | 0/3 [00:00<?, ?it/s]"
      ]
     },
     "metadata": {},
     "output_type": "display_data"
    },
    {
     "data": {
      "application/vnd.jupyter.widget-view+json": {
       "model_id": "e5d9ca53eb954c1cb845830fc989b6ec",
       "version_major": 2,
       "version_minor": 0
      },
      "text/plain": [
       "Years:   0%|          | 0/5 [00:00<?, ?it/s]"
      ]
     },
     "metadata": {},
     "output_type": "display_data"
    },
    {
     "data": {
      "application/vnd.jupyter.widget-view+json": {
       "model_id": "be7e425e292d491f9e4542b90fa65540",
       "version_major": 2,
       "version_minor": 0
      },
      "text/plain": [
       "Years:   0%|          | 0/3 [00:00<?, ?it/s]"
      ]
     },
     "metadata": {},
     "output_type": "display_data"
    },
    {
     "data": {
      "application/vnd.jupyter.widget-view+json": {
       "model_id": "5c1bdcb44e3b422bb713b4139b483aef",
       "version_major": 2,
       "version_minor": 0
      },
      "text/plain": [
       "Years:   0%|          | 0/3 [00:00<?, ?it/s]"
      ]
     },
     "metadata": {},
     "output_type": "display_data"
    },
    {
     "data": {
      "application/vnd.jupyter.widget-view+json": {
       "model_id": "21d9bcd8a62e47cba3ef97a82327659e",
       "version_major": 2,
       "version_minor": 0
      },
      "text/plain": [
       "Years:   0%|          | 0/3 [00:00<?, ?it/s]"
      ]
     },
     "metadata": {},
     "output_type": "display_data"
    },
    {
     "data": {
      "application/vnd.jupyter.widget-view+json": {
       "model_id": "adc9261b239242ad98b6a42dd020dc68",
       "version_major": 2,
       "version_minor": 0
      },
      "text/plain": [
       "Years:   0%|          | 0/3 [00:00<?, ?it/s]"
      ]
     },
     "metadata": {},
     "output_type": "display_data"
    },
    {
     "data": {
      "application/vnd.jupyter.widget-view+json": {
       "model_id": "262e5e4a3ddf4495991a259850e0a6aa",
       "version_major": 2,
       "version_minor": 0
      },
      "text/plain": [
       "Years:   0%|          | 0/4 [00:00<?, ?it/s]"
      ]
     },
     "metadata": {},
     "output_type": "display_data"
    },
    {
     "data": {
      "application/vnd.jupyter.widget-view+json": {
       "model_id": "1a231ed461ba49c6ad11c7496c999507",
       "version_major": 2,
       "version_minor": 0
      },
      "text/plain": [
       "Years:   0%|          | 0/3 [00:00<?, ?it/s]"
      ]
     },
     "metadata": {},
     "output_type": "display_data"
    },
    {
     "data": {
      "application/vnd.jupyter.widget-view+json": {
       "model_id": "daa7352c7b424507998e2359c386ebb5",
       "version_major": 2,
       "version_minor": 0
      },
      "text/plain": [
       "Years:   0%|          | 0/2 [00:00<?, ?it/s]"
      ]
     },
     "metadata": {},
     "output_type": "display_data"
    },
    {
     "data": {
      "application/vnd.jupyter.widget-view+json": {
       "model_id": "4eb8e2d3c7ae44228fb6e43074420fe1",
       "version_major": 2,
       "version_minor": 0
      },
      "text/plain": [
       "Years:   0%|          | 0/3 [00:00<?, ?it/s]"
      ]
     },
     "metadata": {},
     "output_type": "display_data"
    },
    {
     "data": {
      "application/vnd.jupyter.widget-view+json": {
       "model_id": "9ff6b124a85c460e85f1d681ddf2057b",
       "version_major": 2,
       "version_minor": 0
      },
      "text/plain": [
       "Years:   0%|          | 0/3 [00:00<?, ?it/s]"
      ]
     },
     "metadata": {},
     "output_type": "display_data"
    },
    {
     "data": {
      "application/vnd.jupyter.widget-view+json": {
       "model_id": "76c01653f2b24604a801b6a44534b20c",
       "version_major": 2,
       "version_minor": 0
      },
      "text/plain": [
       "Years:   0%|          | 0/3 [00:00<?, ?it/s]"
      ]
     },
     "metadata": {},
     "output_type": "display_data"
    },
    {
     "data": {
      "application/vnd.jupyter.widget-view+json": {
       "model_id": "ccd6758425ec45be90048b04f3079c21",
       "version_major": 2,
       "version_minor": 0
      },
      "text/plain": [
       "Years:   0%|          | 0/2 [00:00<?, ?it/s]"
      ]
     },
     "metadata": {},
     "output_type": "display_data"
    },
    {
     "data": {
      "application/vnd.jupyter.widget-view+json": {
       "model_id": "078208eb40ab47ff87acf5fce62eb4a0",
       "version_major": 2,
       "version_minor": 0
      },
      "text/plain": [
       "Years:   0%|          | 0/4 [00:00<?, ?it/s]"
      ]
     },
     "metadata": {},
     "output_type": "display_data"
    },
    {
     "data": {
      "application/vnd.jupyter.widget-view+json": {
       "model_id": "0f38e1adb1f74c60a22781268fa1ea86",
       "version_major": 2,
       "version_minor": 0
      },
      "text/plain": [
       "Years:   0%|          | 0/2 [00:00<?, ?it/s]"
      ]
     },
     "metadata": {},
     "output_type": "display_data"
    },
    {
     "data": {
      "application/vnd.jupyter.widget-view+json": {
       "model_id": "08a470c2ee71481a9f33547bfac38264",
       "version_major": 2,
       "version_minor": 0
      },
      "text/plain": [
       "Years:   0%|          | 0/4 [00:00<?, ?it/s]"
      ]
     },
     "metadata": {},
     "output_type": "display_data"
    },
    {
     "data": {
      "application/vnd.jupyter.widget-view+json": {
       "model_id": "ab1577558b0d466caff8e4a10b9960e0",
       "version_major": 2,
       "version_minor": 0
      },
      "text/plain": [
       "Years:   0%|          | 0/3 [00:00<?, ?it/s]"
      ]
     },
     "metadata": {},
     "output_type": "display_data"
    },
    {
     "data": {
      "application/vnd.jupyter.widget-view+json": {
       "model_id": "aa92814e0ac74d1b92f3f7afdd9e4e0f",
       "version_major": 2,
       "version_minor": 0
      },
      "text/plain": [
       "Years:   0%|          | 0/3 [00:00<?, ?it/s]"
      ]
     },
     "metadata": {},
     "output_type": "display_data"
    },
    {
     "data": {
      "application/vnd.jupyter.widget-view+json": {
       "model_id": "7140f7671e744a68aa31687b07e5ea13",
       "version_major": 2,
       "version_minor": 0
      },
      "text/plain": [
       "Years:   0%|          | 0/3 [00:00<?, ?it/s]"
      ]
     },
     "metadata": {},
     "output_type": "display_data"
    },
    {
     "data": {
      "application/vnd.jupyter.widget-view+json": {
       "model_id": "b8cf72b3b2fb4c8aa348e69cfc1fb75f",
       "version_major": 2,
       "version_minor": 0
      },
      "text/plain": [
       "Years:   0%|          | 0/3 [00:00<?, ?it/s]"
      ]
     },
     "metadata": {},
     "output_type": "display_data"
    },
    {
     "data": {
      "application/vnd.jupyter.widget-view+json": {
       "model_id": "509c6a6a3bfb4f4599c2ea5f75cfb40b",
       "version_major": 2,
       "version_minor": 0
      },
      "text/plain": [
       "Years:   0%|          | 0/3 [00:00<?, ?it/s]"
      ]
     },
     "metadata": {},
     "output_type": "display_data"
    },
    {
     "data": {
      "application/vnd.jupyter.widget-view+json": {
       "model_id": "e4d8693aa26642f880a4d672916f1ca0",
       "version_major": 2,
       "version_minor": 0
      },
      "text/plain": [
       "Years:   0%|          | 0/3 [00:00<?, ?it/s]"
      ]
     },
     "metadata": {},
     "output_type": "display_data"
    },
    {
     "data": {
      "application/vnd.jupyter.widget-view+json": {
       "model_id": "b493353ad41b49e28e3bc3438e7e56b4",
       "version_major": 2,
       "version_minor": 0
      },
      "text/plain": [
       "Years:   0%|          | 0/3 [00:00<?, ?it/s]"
      ]
     },
     "metadata": {},
     "output_type": "display_data"
    },
    {
     "data": {
      "application/vnd.jupyter.widget-view+json": {
       "model_id": "74c647a66d3843d9a53a3152e2ee2d08",
       "version_major": 2,
       "version_minor": 0
      },
      "text/plain": [
       "Years:   0%|          | 0/3 [00:00<?, ?it/s]"
      ]
     },
     "metadata": {},
     "output_type": "display_data"
    },
    {
     "data": {
      "application/vnd.jupyter.widget-view+json": {
       "model_id": "e685a60b793f454c8687c7e8528dee3f",
       "version_major": 2,
       "version_minor": 0
      },
      "text/plain": [
       "Years:   0%|          | 0/3 [00:00<?, ?it/s]"
      ]
     },
     "metadata": {},
     "output_type": "display_data"
    },
    {
     "data": {
      "application/vnd.jupyter.widget-view+json": {
       "model_id": "f72526dfaa9c4bde8f11c8d712f45f5a",
       "version_major": 2,
       "version_minor": 0
      },
      "text/plain": [
       "Years:   0%|          | 0/2 [00:00<?, ?it/s]"
      ]
     },
     "metadata": {},
     "output_type": "display_data"
    },
    {
     "data": {
      "application/vnd.jupyter.widget-view+json": {
       "model_id": "cc309bde8a554b21af1275f3ac2fbe6e",
       "version_major": 2,
       "version_minor": 0
      },
      "text/plain": [
       "Years:   0%|          | 0/3 [00:00<?, ?it/s]"
      ]
     },
     "metadata": {},
     "output_type": "display_data"
    }
   ],
   "source": [
    "df_ = df.iloc[:]\n",
    "\n",
    "for i, row in tqdm(df_.iterrows(), total=len(df_), desc='Faculty Members'):\n",
    "    url = row['DBLP URL']\n",
    "    if type(url) != str:\n",
    "        #publication_set.append([])\n",
    "        publications = []\n",
    "        with open(f'publication_set/publications_{i}.pkl', 'wb') as file:\n",
    "            pickle.dump(publications, file)\n",
    "    else:\n",
    "        publications = get_publications(url)\n",
    "        #publication_set.append(publications)\n",
    "        with open(f'publication_set/publications_{i}.pkl', 'wb') as file:\n",
    "            pickle.dump(publications, file)"
   ]
  },
  {
   "cell_type": "code",
   "execution_count": null,
   "id": "4a5ca072",
   "metadata": {},
   "outputs": [],
   "source": []
  },
  {
   "cell_type": "code",
   "execution_count": 22,
   "id": "9463fa51",
   "metadata": {},
   "outputs": [
    {
     "data": {
      "text/plain": [
       "nan"
      ]
     },
     "execution_count": 22,
     "metadata": {},
     "output_type": "execute_result"
    }
   ],
   "source": [
    "df.loc[53, 'DBLP URL']"
   ]
  },
  {
   "cell_type": "code",
   "execution_count": null,
   "id": "f78d47d8",
   "metadata": {},
   "outputs": [],
   "source": [
    "import sys\n",
    "sys.setrecursionlimit(10000)\n",
    "\n",
    "with open('publication_set.pkl', 'wb') as file:\n",
    "    pickle.dump(publication_set, file)"
   ]
  },
  {
   "cell_type": "code",
   "execution_count": 28,
   "id": "a1206d94",
   "metadata": {},
   "outputs": [],
   "source": [
    "with open('subtopics.pkl', 'wb') as file:\n",
    "    pickle.dump(subtopics, file)"
   ]
  },
  {
   "cell_type": "code",
   "execution_count": null,
   "id": "8c21b2ad",
   "metadata": {},
   "outputs": [
    {
     "data": {
      "application/vnd.jupyter.widget-view+json": {
       "model_id": "4bbd5aeec71841cd9010d7acda26515a",
       "version_major": 2,
       "version_minor": 0
      },
      "text/plain": [
       "  0%|          | 0/82 [00:00<?, ?it/s]"
      ]
     },
     "metadata": {},
     "output_type": "display_data"
    }
   ],
   "source": [
    "citations = []\n",
    "for i in tqdm(range(82)):\n",
    "    with open(f'publication_set/publications_{i}.pkl', 'rb') as f:\n",
    "        publications = pickle.load(f)\n",
    "        citations.append([])\n",
    "    for pub in publications:\n",
    "        citations[i].append(get_citations(pub))"
   ]
  },
  {
   "cell_type": "code",
   "execution_count": null,
   "id": "22d07174",
   "metadata": {},
   "outputs": [],
   "source": [
    "venue_rankings = []\n",
    "for i in tqdm(range(82)):\n",
    "    with open(f'publication_set/publications_{i}.pkl', 'rb') as f:\n",
    "        publications = pickle.load(f)\n",
    "        venue_rankings.append([])\n",
    "    for pub in publications:\n",
    "        venue_rankings[i].append(venue_quality(pub))"
   ]
  },
  {
   "cell_type": "code",
   "execution_count": 186,
   "id": "aae62183",
   "metadata": {
    "scrolled": true
   },
   "outputs": [
    {
     "data": {
      "text/plain": [
       "{'article': 31,\n",
       " 'inproceedings': 59,\n",
       " 'informal': 8,\n",
       " 'incollection': 2,\n",
       " 'book': 1}"
      ]
     },
     "execution_count": 186,
     "metadata": {},
     "output_type": "execute_result"
    }
   ],
   "source": [
    "def publication_type_full_name(type_):\n",
    "    convert_dict = {\n",
    "        'incollection' : 'Parts in Books or Collections',\n",
    "        'book': 'Books and Theses',\n",
    "        'article': 'Journal Articles',\n",
    "        'inproceedings' : 'Conference and Workshop Papers',\n",
    "        'informal': 'Informal Publications',\n",
    "    }\n",
    "    return convert_dict[type_]\n",
    "\n",
    "def publication_count_by_type(publications):\n",
    "    count = {}\n",
    "    for publ in publications:\n",
    "        if publ.type not in count:\n",
    "            count[(publ.type)] = 0\n",
    "        count[(publ.type)] += 1\n",
    "    return count\n",
    "\n",
    "def publication_count_by_year(publications):\n",
    "    count = {}\n",
    "    for publ in publications:\n",
    "        if publ.year not in count:\n",
    "            count[publ.year] = 0\n",
    "        count[publ.year] += 1\n",
    "    return count\n",
    "\n",
    "def publication_count_by_venue(publications):\n",
    "    count = {}\n",
    "    for publ in publications:\n",
    "        if publ.venue not in count:\n",
    "            count[publ.venue] = 0\n",
    "        count[publ.venue] += 1\n",
    "    return count\n",
    "\n",
    "publication_count_by_type(publications)"
   ]
  },
  {
   "cell_type": "code",
   "execution_count": 174,
   "id": "c7151e25",
   "metadata": {},
   "outputs": [
    {
     "data": {
      "text/plain": [
       "{'Bioinformatics & Computational Biology': 43,\n",
       " 'Computer Vision & Pattern Recognition': 37,\n",
       " 'Artificial Intelligence': 5,\n",
       " 'Medical Informatics': 2,\n",
       " 'Multimedia': 2,\n",
       " 'Computer Security & Cryptography': 6,\n",
       " 'Evolutionary Computation': 2,\n",
       " 'Signal Processing': 2,\n",
       " 'Unknown': 1,\n",
       " 'Automation & Control Theory': 1}"
      ]
     },
     "execution_count": 174,
     "metadata": {},
     "output_type": "execute_result"
    }
   ],
   "source": [
    "def publication_count_by_subtopic(publications):\n",
    "    count = {}\n",
    "    for publ in publications:\n",
    "        if publ.subtopic not in count:\n",
    "            count[publ.subtopic] = 0\n",
    "        count[publ.subtopic] += 1\n",
    "    return count\n",
    "publication_count_by_subtopic(publications)"
   ]
  },
  {
   "cell_type": "code",
   "execution_count": 170,
   "id": "34cbcc73",
   "metadata": {},
   "outputs": [
    {
     "name": "stdout",
     "output_type": "stream",
     "text": [
      "44 \t|\t Bioinformatics & Computational Biology\n",
      "37 \t|\t Computer Vision & Pattern Recognition\n",
      "5 \t|\t Artificial Intelligence\n",
      "2 \t|\t Medical Informatics\n",
      "2 \t|\t Multimedia\n",
      "6 \t|\t Computer Security & Cryptography\n",
      "2 \t|\t Evolutionary Computation\n",
      "2 \t|\t Signal Processing\n",
      "1 \t|\t Automation & Control Theory\n"
     ]
    }
   ],
   "source": [
    "topic_count = {}\n",
    "\n",
    "count = publication_count_by_venue(publications)\n",
    "for k, v in count.items():\n",
    "    k = publication_to_subtopic(k)\n",
    "    if k not in topic_count:\n",
    "        topic_count[k] = 0\n",
    "    topic_count[k] += v\n",
    "for k, v in topic_count.items():\n",
    "    print(v, '\\t|\\t', k)"
   ]
  },
  {
   "cell_type": "code",
   "execution_count": 45,
   "id": "863f4afb",
   "metadata": {},
   "outputs": [
    {
     "data": {
      "text/plain": [
       "['entry', 'article', 'toc']"
      ]
     },
     "execution_count": 45,
     "metadata": {},
     "output_type": "execute_result"
    }
   ],
   "source": [
    "li.attrs['class']"
   ]
  },
  {
   "cell_type": "code",
   "execution_count": null,
   "id": "0899f915",
   "metadata": {},
   "outputs": [],
   "source": []
  }
 ],
 "metadata": {
  "kernelspec": {
   "display_name": "Python 3 (ipykernel)",
   "language": "python",
   "name": "python3"
  },
  "language_info": {
   "codemirror_mode": {
    "name": "ipython",
    "version": 3
   },
   "file_extension": ".py",
   "mimetype": "text/x-python",
   "name": "python",
   "nbconvert_exporter": "python",
   "pygments_lexer": "ipython3",
   "version": "3.9.12"
  }
 },
 "nbformat": 4,
 "nbformat_minor": 5
}
